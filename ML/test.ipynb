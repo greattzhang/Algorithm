{
 "cells": [
  {
   "cell_type": "markdown",
   "metadata": {},
   "source": [
    "# 源程序"
   ]
  },
  {
   "cell_type": "code",
   "execution_count": null,
   "metadata": {
    "collapsed": true
   },
   "outputs": [],
   "source": [
    "# %load untitled0.py\n",
    "\"\"\"\n",
    "Created on Mon Jul 02 23:04:14 2018\n",
    "\n",
    "@author: Administrator\n",
    "\"\"\"\n",
    "\n",
    "import pandas as pd\n",
    "import numpy as np\n",
    "train_df=pd.read_csv('C:/Users/Administrator/Desktop/ML/example/weibo/mytest_train_data.csv')\n",
    "#train_df=pd.read_csv('C:/Users/Administrator/Desktop/ML/example/titanic/titanic_data/train.csv')\n",
    "#print train_df.head()\n",
    "print train_df.info()\n",
    "#train_df['sum']=train_df[3]+train_df[4]+train_df[5]\n",
    "####修改列名\n",
    "#train_df.columns=['uid','mid','time','forward_count','comment_count','like_count','content','sum']\n",
    "train_df=train_df.ix[:10000,['uid','mid','time','forward_count','comment_count','like_count','sum']]\n",
    "#print train_df.head()\n",
    "####写入CSV文件\n",
    "#train_df.to_csv('C:/Users/Administrator/Desktop/ML/example/weibo/mytest_train_data.csv')\n",
    "#train_df.to_csv('C:/Users/Administrator/Desktop/ML/example/weibo/weibo_train_data.csv')\n",
    "####同一用户的评论、点赞、转发求和\n",
    "df_processsum = pd.DataFrame()\n",
    "df_processsum=train_df.groupby('uid').agg({'forward_count':np.sum,'comment_count':np.sum,'like_count':np.sum})\n",
    "df_processsum.columns=['forward_sum','comment_sum','like_sum']\n",
    "###将用户名由索引变为列\n",
    "df_processsum.reset_index(inplace = True)\n",
    "#print df_processsum.head()\n",
    "#print df_processsum.info()\n",
    "#print df_processsum.index\n",
    "####同一用户的转发、点赞求最大值\n",
    "\n",
    "print '_'*13\n",
    "print df_processsum[:12]\n",
    "df_processsum.to_csv('C:/Users/Administrator/Desktop/ML/example/weibo/train_sum.csv')"
   ]
  },
  {
   "cell_type": "markdown",
   "metadata": {},
   "source": [
    "# 运行"
   ]
  },
  {
   "cell_type": "markdown",
   "metadata": {},
   "source": [
    "## 导入包 查看数据"
   ]
  },
  {
   "cell_type": "code",
   "execution_count": 1,
   "metadata": {
    "collapsed": true
   },
   "outputs": [],
   "source": [
    "import pandas as pd\n",
    "import numpy as np"
   ]
  },
  {
   "cell_type": "code",
   "execution_count": 2,
   "metadata": {},
   "outputs": [
    {
     "data": {
      "text/html": [
       "<div>\n",
       "<style>\n",
       "    .dataframe thead tr:only-child th {\n",
       "        text-align: right;\n",
       "    }\n",
       "\n",
       "    .dataframe thead th {\n",
       "        text-align: left;\n",
       "    }\n",
       "\n",
       "    .dataframe tbody tr th {\n",
       "        vertical-align: top;\n",
       "    }\n",
       "</style>\n",
       "<table border=\"1\" class=\"dataframe\">\n",
       "  <thead>\n",
       "    <tr style=\"text-align: right;\">\n",
       "      <th></th>\n",
       "      <th>Unnamed: 0</th>\n",
       "      <th>uid</th>\n",
       "      <th>mid</th>\n",
       "      <th>time</th>\n",
       "      <th>forward_count</th>\n",
       "      <th>comment_count</th>\n",
       "      <th>like_count</th>\n",
       "      <th>sum</th>\n",
       "    </tr>\n",
       "  </thead>\n",
       "  <tbody>\n",
       "    <tr>\n",
       "      <th>0</th>\n",
       "      <td>0</td>\n",
       "      <td>d38e9bed5d98110dc2489d0d1cac3c2a</td>\n",
       "      <td>7d45833d9865727a88b960b0603c19f6</td>\n",
       "      <td>2015/2/23 17:41</td>\n",
       "      <td>0</td>\n",
       "      <td>0</td>\n",
       "      <td>0</td>\n",
       "      <td>0</td>\n",
       "    </tr>\n",
       "    <tr>\n",
       "      <th>1</th>\n",
       "      <td>1</td>\n",
       "      <td>fa13974743d3fe6ff40d21b872325e9e</td>\n",
       "      <td>8169f1d45051e08ef213bf1106b1225d</td>\n",
       "      <td>2015/2/14 12:49</td>\n",
       "      <td>0</td>\n",
       "      <td>0</td>\n",
       "      <td>0</td>\n",
       "      <td>0</td>\n",
       "    </tr>\n",
       "    <tr>\n",
       "      <th>2</th>\n",
       "      <td>2</td>\n",
       "      <td>da534fe87e7a52777bee5c30573ed5fd</td>\n",
       "      <td>68cd0258c31c2c525f94febea2d9523b</td>\n",
       "      <td>2015/3/31 13:58</td>\n",
       "      <td>0</td>\n",
       "      <td>0</td>\n",
       "      <td>0</td>\n",
       "      <td>0</td>\n",
       "    </tr>\n",
       "    <tr>\n",
       "      <th>3</th>\n",
       "      <td>3</td>\n",
       "      <td>e06a22b7e065e559a1f0bf7841a85c51</td>\n",
       "      <td>00b9f86b4915aedb7db943c54fd19d59</td>\n",
       "      <td>2015/6/11 20:39</td>\n",
       "      <td>0</td>\n",
       "      <td>4</td>\n",
       "      <td>3</td>\n",
       "      <td>7</td>\n",
       "    </tr>\n",
       "    <tr>\n",
       "      <th>4</th>\n",
       "      <td>4</td>\n",
       "      <td>f9828598f9664d4e347ef2048ce17734</td>\n",
       "      <td>c7f6f66044c0c5a3330e2c5371be6824</td>\n",
       "      <td>2015/3/10 18:02</td>\n",
       "      <td>0</td>\n",
       "      <td>0</td>\n",
       "      <td>0</td>\n",
       "      <td>0</td>\n",
       "    </tr>\n",
       "  </tbody>\n",
       "</table>\n",
       "</div>"
      ],
      "text/plain": [
       "   Unnamed: 0                               uid  \\\n",
       "0           0  d38e9bed5d98110dc2489d0d1cac3c2a   \n",
       "1           1  fa13974743d3fe6ff40d21b872325e9e   \n",
       "2           2  da534fe87e7a52777bee5c30573ed5fd   \n",
       "3           3  e06a22b7e065e559a1f0bf7841a85c51   \n",
       "4           4  f9828598f9664d4e347ef2048ce17734   \n",
       "\n",
       "                                mid             time  forward_count  \\\n",
       "0  7d45833d9865727a88b960b0603c19f6  2015/2/23 17:41              0   \n",
       "1  8169f1d45051e08ef213bf1106b1225d  2015/2/14 12:49              0   \n",
       "2  68cd0258c31c2c525f94febea2d9523b  2015/3/31 13:58              0   \n",
       "3  00b9f86b4915aedb7db943c54fd19d59  2015/6/11 20:39              0   \n",
       "4  c7f6f66044c0c5a3330e2c5371be6824  2015/3/10 18:02              0   \n",
       "\n",
       "   comment_count  like_count  sum  \n",
       "0              0           0    0  \n",
       "1              0           0    0  \n",
       "2              0           0    0  \n",
       "3              4           3    7  \n",
       "4              0           0    0  "
      ]
     },
     "execution_count": 2,
     "metadata": {},
     "output_type": "execute_result"
    }
   ],
   "source": [
    "train_df=pd.read_csv('./mytest_train_data.csv')\n",
    "train_df.head()"
   ]
  },
  {
   "cell_type": "code",
   "execution_count": 3,
   "metadata": {
    "scrolled": false
   },
   "outputs": [
    {
     "name": "stdout",
     "output_type": "stream",
     "text": [
      "<class 'pandas.core.frame.DataFrame'>\n",
      "RangeIndex: 10001 entries, 0 to 10000\n",
      "Data columns (total 8 columns):\n",
      "Unnamed: 0       10001 non-null int64\n",
      "uid              10001 non-null object\n",
      "mid              10001 non-null object\n",
      "time             10001 non-null object\n",
      "forward_count    10001 non-null int64\n",
      "comment_count    10001 non-null int64\n",
      "like_count       10001 non-null int64\n",
      "sum              10001 non-null int64\n",
      "dtypes: int64(5), object(3)\n",
      "memory usage: 625.1+ KB\n",
      "None\n"
     ]
    },
    {
     "name": "stderr",
     "output_type": "stream",
     "text": [
      "E:\\Anaconda3\\envs\\python_27\\lib\\site-packages\\ipykernel_launcher.py:2: DeprecationWarning: \n",
      ".ix is deprecated. Please use\n",
      ".loc for label based indexing or\n",
      ".iloc for positional indexing\n",
      "\n",
      "See the documentation here:\n",
      "http://pandas.pydata.org/pandas-docs/stable/indexing.html#ix-indexer-is-deprecated\n",
      "  \n"
     ]
    },
    {
     "data": {
      "text/html": [
       "<div>\n",
       "<style>\n",
       "    .dataframe thead tr:only-child th {\n",
       "        text-align: right;\n",
       "    }\n",
       "\n",
       "    .dataframe thead th {\n",
       "        text-align: left;\n",
       "    }\n",
       "\n",
       "    .dataframe tbody tr th {\n",
       "        vertical-align: top;\n",
       "    }\n",
       "</style>\n",
       "<table border=\"1\" class=\"dataframe\">\n",
       "  <thead>\n",
       "    <tr style=\"text-align: right;\">\n",
       "      <th></th>\n",
       "      <th>uid</th>\n",
       "      <th>mid</th>\n",
       "      <th>time</th>\n",
       "      <th>forward_count</th>\n",
       "      <th>comment_count</th>\n",
       "      <th>like_count</th>\n",
       "      <th>sum</th>\n",
       "    </tr>\n",
       "  </thead>\n",
       "  <tbody>\n",
       "    <tr>\n",
       "      <th>0</th>\n",
       "      <td>d38e9bed5d98110dc2489d0d1cac3c2a</td>\n",
       "      <td>7d45833d9865727a88b960b0603c19f6</td>\n",
       "      <td>2015/2/23 17:41</td>\n",
       "      <td>0</td>\n",
       "      <td>0</td>\n",
       "      <td>0</td>\n",
       "      <td>0</td>\n",
       "    </tr>\n",
       "    <tr>\n",
       "      <th>1</th>\n",
       "      <td>fa13974743d3fe6ff40d21b872325e9e</td>\n",
       "      <td>8169f1d45051e08ef213bf1106b1225d</td>\n",
       "      <td>2015/2/14 12:49</td>\n",
       "      <td>0</td>\n",
       "      <td>0</td>\n",
       "      <td>0</td>\n",
       "      <td>0</td>\n",
       "    </tr>\n",
       "    <tr>\n",
       "      <th>2</th>\n",
       "      <td>da534fe87e7a52777bee5c30573ed5fd</td>\n",
       "      <td>68cd0258c31c2c525f94febea2d9523b</td>\n",
       "      <td>2015/3/31 13:58</td>\n",
       "      <td>0</td>\n",
       "      <td>0</td>\n",
       "      <td>0</td>\n",
       "      <td>0</td>\n",
       "    </tr>\n",
       "    <tr>\n",
       "      <th>3</th>\n",
       "      <td>e06a22b7e065e559a1f0bf7841a85c51</td>\n",
       "      <td>00b9f86b4915aedb7db943c54fd19d59</td>\n",
       "      <td>2015/6/11 20:39</td>\n",
       "      <td>0</td>\n",
       "      <td>4</td>\n",
       "      <td>3</td>\n",
       "      <td>7</td>\n",
       "    </tr>\n",
       "    <tr>\n",
       "      <th>4</th>\n",
       "      <td>f9828598f9664d4e347ef2048ce17734</td>\n",
       "      <td>c7f6f66044c0c5a3330e2c5371be6824</td>\n",
       "      <td>2015/3/10 18:02</td>\n",
       "      <td>0</td>\n",
       "      <td>0</td>\n",
       "      <td>0</td>\n",
       "      <td>0</td>\n",
       "    </tr>\n",
       "  </tbody>\n",
       "</table>\n",
       "</div>"
      ],
      "text/plain": [
       "                                uid                               mid  \\\n",
       "0  d38e9bed5d98110dc2489d0d1cac3c2a  7d45833d9865727a88b960b0603c19f6   \n",
       "1  fa13974743d3fe6ff40d21b872325e9e  8169f1d45051e08ef213bf1106b1225d   \n",
       "2  da534fe87e7a52777bee5c30573ed5fd  68cd0258c31c2c525f94febea2d9523b   \n",
       "3  e06a22b7e065e559a1f0bf7841a85c51  00b9f86b4915aedb7db943c54fd19d59   \n",
       "4  f9828598f9664d4e347ef2048ce17734  c7f6f66044c0c5a3330e2c5371be6824   \n",
       "\n",
       "              time  forward_count  comment_count  like_count  sum  \n",
       "0  2015/2/23 17:41              0              0           0    0  \n",
       "1  2015/2/14 12:49              0              0           0    0  \n",
       "2  2015/3/31 13:58              0              0           0    0  \n",
       "3  2015/6/11 20:39              0              4           3    7  \n",
       "4  2015/3/10 18:02              0              0           0    0  "
      ]
     },
     "execution_count": 3,
     "metadata": {},
     "output_type": "execute_result"
    }
   ],
   "source": [
    "print train_df.info()\n",
    "train_df=train_df.ix[:10000,['uid','mid','time','forward_count','comment_count','like_count','sum']]\n",
    "train_df.head()"
   ]
  },
  {
   "cell_type": "markdown",
   "metadata": {},
   "source": [
    "## 聚合并对给定列求和"
   ]
  },
  {
   "cell_type": "code",
   "execution_count": 4,
   "metadata": {
    "scrolled": false
   },
   "outputs": [
    {
     "data": {
      "text/html": [
       "<div>\n",
       "<style>\n",
       "    .dataframe thead tr:only-child th {\n",
       "        text-align: right;\n",
       "    }\n",
       "\n",
       "    .dataframe thead th {\n",
       "        text-align: left;\n",
       "    }\n",
       "\n",
       "    .dataframe tbody tr th {\n",
       "        vertical-align: top;\n",
       "    }\n",
       "</style>\n",
       "<table border=\"1\" class=\"dataframe\">\n",
       "  <thead>\n",
       "    <tr style=\"text-align: right;\">\n",
       "      <th></th>\n",
       "      <th>forward_count</th>\n",
       "      <th>like_count</th>\n",
       "      <th>comment_count</th>\n",
       "    </tr>\n",
       "    <tr>\n",
       "      <th>uid</th>\n",
       "      <th></th>\n",
       "      <th></th>\n",
       "      <th></th>\n",
       "    </tr>\n",
       "  </thead>\n",
       "  <tbody>\n",
       "    <tr>\n",
       "      <th>0001565a5edece1669577e2ace9a6a3d</th>\n",
       "      <td>0</td>\n",
       "      <td>0</td>\n",
       "      <td>0</td>\n",
       "    </tr>\n",
       "    <tr>\n",
       "      <th>000c663a24a2f91f4ba156fcd4f8b9f2</th>\n",
       "      <td>0</td>\n",
       "      <td>0</td>\n",
       "      <td>0</td>\n",
       "    </tr>\n",
       "    <tr>\n",
       "      <th>0018b27ecc1370e4208b6b2f175e6651</th>\n",
       "      <td>0</td>\n",
       "      <td>0</td>\n",
       "      <td>0</td>\n",
       "    </tr>\n",
       "    <tr>\n",
       "      <th>001e00fddab72bf7e6be3455e199904a</th>\n",
       "      <td>0</td>\n",
       "      <td>0</td>\n",
       "      <td>0</td>\n",
       "    </tr>\n",
       "    <tr>\n",
       "      <th>001fe802d7b8a3f5782b25acf0410440</th>\n",
       "      <td>0</td>\n",
       "      <td>0</td>\n",
       "      <td>0</td>\n",
       "    </tr>\n",
       "    <tr>\n",
       "      <th>00366f1ae39b881bdb2ba8687a4c912a</th>\n",
       "      <td>0</td>\n",
       "      <td>0</td>\n",
       "      <td>0</td>\n",
       "    </tr>\n",
       "    <tr>\n",
       "      <th>0037104157ee5dd0987be03d750f0fd3</th>\n",
       "      <td>0</td>\n",
       "      <td>0</td>\n",
       "      <td>0</td>\n",
       "    </tr>\n",
       "    <tr>\n",
       "      <th>005989ae18cab8d7896bc1ab84dcfe88</th>\n",
       "      <td>0</td>\n",
       "      <td>0</td>\n",
       "      <td>0</td>\n",
       "    </tr>\n",
       "    <tr>\n",
       "      <th>00629276bf87e3b0ffb8930d658d21bd</th>\n",
       "      <td>0</td>\n",
       "      <td>0</td>\n",
       "      <td>0</td>\n",
       "    </tr>\n",
       "    <tr>\n",
       "      <th>00677efdde3a4a8ce715c9477762a7c3</th>\n",
       "      <td>0</td>\n",
       "      <td>0</td>\n",
       "      <td>0</td>\n",
       "    </tr>\n",
       "    <tr>\n",
       "      <th>008ae13aeeeb93aae3989160052ac874</th>\n",
       "      <td>0</td>\n",
       "      <td>17</td>\n",
       "      <td>3</td>\n",
       "    </tr>\n",
       "    <tr>\n",
       "      <th>00c8986de0a9e2e8de08d9b7a315c690</th>\n",
       "      <td>0</td>\n",
       "      <td>0</td>\n",
       "      <td>0</td>\n",
       "    </tr>\n",
       "  </tbody>\n",
       "</table>\n",
       "</div>"
      ],
      "text/plain": [
       "                                  forward_count  like_count  comment_count\n",
       "uid                                                                       \n",
       "0001565a5edece1669577e2ace9a6a3d              0           0              0\n",
       "000c663a24a2f91f4ba156fcd4f8b9f2              0           0              0\n",
       "0018b27ecc1370e4208b6b2f175e6651              0           0              0\n",
       "001e00fddab72bf7e6be3455e199904a              0           0              0\n",
       "001fe802d7b8a3f5782b25acf0410440              0           0              0\n",
       "00366f1ae39b881bdb2ba8687a4c912a              0           0              0\n",
       "0037104157ee5dd0987be03d750f0fd3              0           0              0\n",
       "005989ae18cab8d7896bc1ab84dcfe88              0           0              0\n",
       "00629276bf87e3b0ffb8930d658d21bd              0           0              0\n",
       "00677efdde3a4a8ce715c9477762a7c3              0           0              0\n",
       "008ae13aeeeb93aae3989160052ac874              0          17              3\n",
       "00c8986de0a9e2e8de08d9b7a315c690              0           0              0"
      ]
     },
     "execution_count": 4,
     "metadata": {},
     "output_type": "execute_result"
    }
   ],
   "source": [
    "####同一用户的评论、点赞、转发求和\n",
    "df_processsum = pd.DataFrame()\n",
    "df_processsum = train_df.groupby('uid').agg({'forward_count':np.sum,'comment_count':np.sum,'like_count':np.sum})\n",
    "df_processsum.head(12)"
   ]
  },
  {
   "cell_type": "markdown",
   "metadata": {},
   "source": [
    "## 重命名列"
   ]
  },
  {
   "cell_type": "code",
   "execution_count": 5,
   "metadata": {
    "scrolled": true
   },
   "outputs": [
    {
     "data": {
      "text/html": [
       "<div>\n",
       "<style>\n",
       "    .dataframe thead tr:only-child th {\n",
       "        text-align: right;\n",
       "    }\n",
       "\n",
       "    .dataframe thead th {\n",
       "        text-align: left;\n",
       "    }\n",
       "\n",
       "    .dataframe tbody tr th {\n",
       "        vertical-align: top;\n",
       "    }\n",
       "</style>\n",
       "<table border=\"1\" class=\"dataframe\">\n",
       "  <thead>\n",
       "    <tr style=\"text-align: right;\">\n",
       "      <th></th>\n",
       "      <th>forward_sum</th>\n",
       "      <th>comment_sum</th>\n",
       "      <th>like_sum</th>\n",
       "    </tr>\n",
       "    <tr>\n",
       "      <th>uid</th>\n",
       "      <th></th>\n",
       "      <th></th>\n",
       "      <th></th>\n",
       "    </tr>\n",
       "  </thead>\n",
       "  <tbody>\n",
       "    <tr>\n",
       "      <th>0001565a5edece1669577e2ace9a6a3d</th>\n",
       "      <td>0</td>\n",
       "      <td>0</td>\n",
       "      <td>0</td>\n",
       "    </tr>\n",
       "    <tr>\n",
       "      <th>000c663a24a2f91f4ba156fcd4f8b9f2</th>\n",
       "      <td>0</td>\n",
       "      <td>0</td>\n",
       "      <td>0</td>\n",
       "    </tr>\n",
       "    <tr>\n",
       "      <th>0018b27ecc1370e4208b6b2f175e6651</th>\n",
       "      <td>0</td>\n",
       "      <td>0</td>\n",
       "      <td>0</td>\n",
       "    </tr>\n",
       "    <tr>\n",
       "      <th>001e00fddab72bf7e6be3455e199904a</th>\n",
       "      <td>0</td>\n",
       "      <td>0</td>\n",
       "      <td>0</td>\n",
       "    </tr>\n",
       "    <tr>\n",
       "      <th>001fe802d7b8a3f5782b25acf0410440</th>\n",
       "      <td>0</td>\n",
       "      <td>0</td>\n",
       "      <td>0</td>\n",
       "    </tr>\n",
       "  </tbody>\n",
       "</table>\n",
       "</div>"
      ],
      "text/plain": [
       "                                  forward_sum  comment_sum  like_sum\n",
       "uid                                                                 \n",
       "0001565a5edece1669577e2ace9a6a3d            0            0         0\n",
       "000c663a24a2f91f4ba156fcd4f8b9f2            0            0         0\n",
       "0018b27ecc1370e4208b6b2f175e6651            0            0         0\n",
       "001e00fddab72bf7e6be3455e199904a            0            0         0\n",
       "001fe802d7b8a3f5782b25acf0410440            0            0         0"
      ]
     },
     "execution_count": 5,
     "metadata": {},
     "output_type": "execute_result"
    }
   ],
   "source": [
    "df_processsum.columns=['forward_sum','comment_sum','like_sum']\n",
    "df_processsum.head()"
   ]
  },
  {
   "cell_type": "markdown",
   "metadata": {},
   "source": [
    "## 查找 df_processsum 中 comment_sum=17  comment_sum=3"
   ]
  },
  {
   "cell_type": "markdown",
   "metadata": {},
   "source": [
    "### 确实与原始数据相反"
   ]
  },
  {
   "cell_type": "code",
   "execution_count": 6,
   "metadata": {
    "scrolled": true
   },
   "outputs": [
    {
     "data": {
      "text/html": [
       "<div>\n",
       "<style>\n",
       "    .dataframe thead tr:only-child th {\n",
       "        text-align: right;\n",
       "    }\n",
       "\n",
       "    .dataframe thead th {\n",
       "        text-align: left;\n",
       "    }\n",
       "\n",
       "    .dataframe tbody tr th {\n",
       "        vertical-align: top;\n",
       "    }\n",
       "</style>\n",
       "<table border=\"1\" class=\"dataframe\">\n",
       "  <thead>\n",
       "    <tr style=\"text-align: right;\">\n",
       "      <th></th>\n",
       "      <th>forward_sum</th>\n",
       "      <th>comment_sum</th>\n",
       "      <th>like_sum</th>\n",
       "    </tr>\n",
       "    <tr>\n",
       "      <th>uid</th>\n",
       "      <th></th>\n",
       "      <th></th>\n",
       "      <th></th>\n",
       "    </tr>\n",
       "  </thead>\n",
       "  <tbody>\n",
       "  </tbody>\n",
       "</table>\n",
       "</div>"
      ],
      "text/plain": [
       "Empty DataFrame\n",
       "Columns: [forward_sum, comment_sum, like_sum]\n",
       "Index: []"
      ]
     },
     "execution_count": 6,
     "metadata": {},
     "output_type": "execute_result"
    }
   ],
   "source": [
    "# df_processsum['uid'].index('008ae13aeeeb93aae3989160052ac874')\n",
    "df_processsum[df_processsum['comment_sum'].isin([17]) & df_processsum['comment_sum'].isin([3])]"
   ]
  },
  {
   "cell_type": "code",
   "execution_count": 7,
   "metadata": {},
   "outputs": [
    {
     "name": "stdout",
     "output_type": "stream",
     "text": [
      "_____________\n",
      "                                 uid  forward_sum  comment_sum  like_sum\n",
      "0   0001565a5edece1669577e2ace9a6a3d            0            0         0\n",
      "1   000c663a24a2f91f4ba156fcd4f8b9f2            0            0         0\n",
      "2   0018b27ecc1370e4208b6b2f175e6651            0            0         0\n",
      "3   001e00fddab72bf7e6be3455e199904a            0            0         0\n",
      "4   001fe802d7b8a3f5782b25acf0410440            0            0         0\n",
      "5   00366f1ae39b881bdb2ba8687a4c912a            0            0         0\n",
      "6   0037104157ee5dd0987be03d750f0fd3            0            0         0\n",
      "7   005989ae18cab8d7896bc1ab84dcfe88            0            0         0\n",
      "8   00629276bf87e3b0ffb8930d658d21bd            0            0         0\n",
      "9   00677efdde3a4a8ce715c9477762a7c3            0            0         0\n",
      "10  008ae13aeeeb93aae3989160052ac874            0           17         3\n",
      "11  00c8986de0a9e2e8de08d9b7a315c690            0            0         0\n"
     ]
    }
   ],
   "source": [
    "df_processsum.reset_index(inplace = True)\n",
    "print '_'*13\n",
    "print df_processsum[:12]"
   ]
  },
  {
   "cell_type": "markdown",
   "metadata": {},
   "source": [
    "### 再次对原始数据中的数据进行验证  "
   ]
  },
  {
   "cell_type": "markdown",
   "metadata": {},
   "source": [
    "- uid为024165f0b4ef119ca45d6169f7f77ef7的原始数据comment_count为12 like_count为15\n",
    "- 而df_processsum刚好相反"
   ]
  },
  {
   "cell_type": "code",
   "execution_count": 8,
   "metadata": {
    "code_folding": []
   },
   "outputs": [
    {
     "name": "stdout",
     "output_type": "stream",
     "text": [
      "原始数据train_df中comment_count=12，like_count=15的数据：\n",
      "                                   uid                               mid  \\\n",
      "6238  024165f0b4ef119ca45d6169f7f77ef7  c610f4341c465e474e62eeaf8291f657   \n",
      "\n",
      "                 time  forward_count  comment_count  like_count  sum  \n",
      "6238  2015/7/31 22:10             14             12          15   41  \n",
      "-------------------------\n",
      "df_processsum中对应结果：\n",
      "                                 uid  forward_sum  comment_sum  like_sum\n",
      "46  024165f0b4ef119ca45d6169f7f77ef7           14           15        12\n"
     ]
    }
   ],
   "source": [
    "print \"原始数据train_df中comment_count=12，like_count=15的数据：\"\n",
    "print train_df[train_df['comment_count'].isin([12]) & train_df['like_count'].isin([15]) & train_df['forward_count'].isin([14]) \n",
    "               & train_df['uid'].isin(['024165f0b4ef119ca45d6169f7f77ef7'])]\n",
    "print '-'*25\n",
    "print \"df_processsum中对应结果：\"\n",
    "print df_processsum[df_processsum['comment_sum'].isin([15]) & df_processsum['like_sum'].isin([12]) & df_processsum['forward_sum'].isin([14])]"
   ]
  },
  {
   "cell_type": "markdown",
   "metadata": {},
   "source": [
    "## 使用groupby的常规方法进行处理"
   ]
  },
  {
   "cell_type": "code",
   "execution_count": 9,
   "metadata": {},
   "outputs": [
    {
     "name": "stdout",
     "output_type": "stream",
     "text": [
      "_____________\n",
      "                                 uid  forward_sum  comment_sum  like_sum\n",
      "0   0001565a5edece1669577e2ace9a6a3d            0            0         0\n",
      "1   000c663a24a2f91f4ba156fcd4f8b9f2            0            0         0\n",
      "2   0018b27ecc1370e4208b6b2f175e6651            0            0         0\n",
      "3   001e00fddab72bf7e6be3455e199904a            0            0         0\n",
      "4   001fe802d7b8a3f5782b25acf0410440            0            0         0\n",
      "5   00366f1ae39b881bdb2ba8687a4c912a            0            0         0\n",
      "6   0037104157ee5dd0987be03d750f0fd3            0            0         0\n",
      "7   005989ae18cab8d7896bc1ab84dcfe88            0            0         0\n",
      "8   00629276bf87e3b0ffb8930d658d21bd            0            0         0\n",
      "9   00677efdde3a4a8ce715c9477762a7c3            0            0         0\n",
      "10  008ae13aeeeb93aae3989160052ac874            0            3        17\n",
      "11  00c8986de0a9e2e8de08d9b7a315c690            0            0         0\n"
     ]
    }
   ],
   "source": [
    "df_processsum_1 = pd.DataFrame()\n",
    "df_processsum_1 = train_df.groupby('uid')['forward_count','comment_count','like_count'].sum()\n",
    "df_processsum_1.head(10)\n",
    "df_processsum_1.columns=['forward_sum','comment_sum','like_sum']\n",
    "df_processsum_1.head(10)\n",
    "df_processsum_1[df_processsum_1['comment_sum'].isin([17])]\n",
    "df_processsum_1.reset_index(inplace = True)\n",
    "print '_'*13\n",
    "print df_processsum_1[:12]"
   ]
  },
  {
   "cell_type": "code",
   "execution_count": 10,
   "metadata": {
    "scrolled": true
   },
   "outputs": [
    {
     "data": {
      "text/html": [
       "<div>\n",
       "<style>\n",
       "    .dataframe thead tr:only-child th {\n",
       "        text-align: right;\n",
       "    }\n",
       "\n",
       "    .dataframe thead th {\n",
       "        text-align: left;\n",
       "    }\n",
       "\n",
       "    .dataframe tbody tr th {\n",
       "        vertical-align: top;\n",
       "    }\n",
       "</style>\n",
       "<table border=\"1\" class=\"dataframe\">\n",
       "  <thead>\n",
       "    <tr style=\"text-align: right;\">\n",
       "      <th></th>\n",
       "      <th>uid</th>\n",
       "      <th>forward_sum</th>\n",
       "      <th>comment_sum</th>\n",
       "      <th>like_sum</th>\n",
       "    </tr>\n",
       "  </thead>\n",
       "  <tbody>\n",
       "  </tbody>\n",
       "</table>\n",
       "</div>"
      ],
      "text/plain": [
       "Empty DataFrame\n",
       "Columns: [uid, forward_sum, comment_sum, like_sum]\n",
       "Index: []"
      ]
     },
     "execution_count": 10,
     "metadata": {},
     "output_type": "execute_result"
    }
   ],
   "source": [
    "df_processsum_1[df_processsum_1['comment_sum'].isin([17]) & df_processsum_1['like_sum'].isin([3])]"
   ]
  },
  {
   "cell_type": "code",
   "execution_count": 11,
   "metadata": {},
   "outputs": [
    {
     "data": {
      "text/html": [
       "<div>\n",
       "<style>\n",
       "    .dataframe thead tr:only-child th {\n",
       "        text-align: right;\n",
       "    }\n",
       "\n",
       "    .dataframe thead th {\n",
       "        text-align: left;\n",
       "    }\n",
       "\n",
       "    .dataframe tbody tr th {\n",
       "        vertical-align: top;\n",
       "    }\n",
       "</style>\n",
       "<table border=\"1\" class=\"dataframe\">\n",
       "  <thead>\n",
       "    <tr style=\"text-align: right;\">\n",
       "      <th></th>\n",
       "      <th>uid</th>\n",
       "      <th>forward_sum</th>\n",
       "      <th>comment_sum</th>\n",
       "      <th>like_sum</th>\n",
       "    </tr>\n",
       "  </thead>\n",
       "  <tbody>\n",
       "    <tr>\n",
       "      <th>10</th>\n",
       "      <td>008ae13aeeeb93aae3989160052ac874</td>\n",
       "      <td>0</td>\n",
       "      <td>3</td>\n",
       "      <td>17</td>\n",
       "    </tr>\n",
       "  </tbody>\n",
       "</table>\n",
       "</div>"
      ],
      "text/plain": [
       "                                 uid  forward_sum  comment_sum  like_sum\n",
       "10  008ae13aeeeb93aae3989160052ac874            0            3        17"
      ]
     },
     "execution_count": 11,
     "metadata": {},
     "output_type": "execute_result"
    }
   ],
   "source": [
    "df_processsum_1[df_processsum_1['comment_sum'].isin([3]) & df_processsum_1['like_sum'].isin([17])]"
   ]
  },
  {
   "cell_type": "markdown",
   "metadata": {},
   "source": [
    "- <font size=5>常规方法处理并未出现问题</font>"
   ]
  },
  {
   "cell_type": "markdown",
   "metadata": {},
   "source": [
    "## 重新使用agg方法"
   ]
  },
  {
   "cell_type": "code",
   "execution_count": 12,
   "metadata": {
    "scrolled": false
   },
   "outputs": [
    {
     "data": {
      "text/html": [
       "<div>\n",
       "<style>\n",
       "    .dataframe thead tr:only-child th {\n",
       "        text-align: right;\n",
       "    }\n",
       "\n",
       "    .dataframe thead th {\n",
       "        text-align: left;\n",
       "    }\n",
       "\n",
       "    .dataframe tbody tr th {\n",
       "        vertical-align: top;\n",
       "    }\n",
       "</style>\n",
       "<table border=\"1\" class=\"dataframe\">\n",
       "  <thead>\n",
       "    <tr style=\"text-align: right;\">\n",
       "      <th></th>\n",
       "      <th>forward_count</th>\n",
       "      <th>like_count</th>\n",
       "      <th>comment_count</th>\n",
       "    </tr>\n",
       "    <tr>\n",
       "      <th>uid</th>\n",
       "      <th></th>\n",
       "      <th></th>\n",
       "      <th></th>\n",
       "    </tr>\n",
       "  </thead>\n",
       "  <tbody>\n",
       "    <tr>\n",
       "      <th>0001565a5edece1669577e2ace9a6a3d</th>\n",
       "      <td>0</td>\n",
       "      <td>0</td>\n",
       "      <td>0</td>\n",
       "    </tr>\n",
       "    <tr>\n",
       "      <th>000c663a24a2f91f4ba156fcd4f8b9f2</th>\n",
       "      <td>0</td>\n",
       "      <td>0</td>\n",
       "      <td>0</td>\n",
       "    </tr>\n",
       "    <tr>\n",
       "      <th>0018b27ecc1370e4208b6b2f175e6651</th>\n",
       "      <td>0</td>\n",
       "      <td>0</td>\n",
       "      <td>0</td>\n",
       "    </tr>\n",
       "    <tr>\n",
       "      <th>001e00fddab72bf7e6be3455e199904a</th>\n",
       "      <td>0</td>\n",
       "      <td>0</td>\n",
       "      <td>0</td>\n",
       "    </tr>\n",
       "    <tr>\n",
       "      <th>001fe802d7b8a3f5782b25acf0410440</th>\n",
       "      <td>0</td>\n",
       "      <td>0</td>\n",
       "      <td>0</td>\n",
       "    </tr>\n",
       "    <tr>\n",
       "      <th>00366f1ae39b881bdb2ba8687a4c912a</th>\n",
       "      <td>0</td>\n",
       "      <td>0</td>\n",
       "      <td>0</td>\n",
       "    </tr>\n",
       "    <tr>\n",
       "      <th>0037104157ee5dd0987be03d750f0fd3</th>\n",
       "      <td>0</td>\n",
       "      <td>0</td>\n",
       "      <td>0</td>\n",
       "    </tr>\n",
       "    <tr>\n",
       "      <th>005989ae18cab8d7896bc1ab84dcfe88</th>\n",
       "      <td>0</td>\n",
       "      <td>0</td>\n",
       "      <td>0</td>\n",
       "    </tr>\n",
       "    <tr>\n",
       "      <th>00629276bf87e3b0ffb8930d658d21bd</th>\n",
       "      <td>0</td>\n",
       "      <td>0</td>\n",
       "      <td>0</td>\n",
       "    </tr>\n",
       "    <tr>\n",
       "      <th>00677efdde3a4a8ce715c9477762a7c3</th>\n",
       "      <td>0</td>\n",
       "      <td>0</td>\n",
       "      <td>0</td>\n",
       "    </tr>\n",
       "    <tr>\n",
       "      <th>008ae13aeeeb93aae3989160052ac874</th>\n",
       "      <td>0</td>\n",
       "      <td>17</td>\n",
       "      <td>3</td>\n",
       "    </tr>\n",
       "    <tr>\n",
       "      <th>00c8986de0a9e2e8de08d9b7a315c690</th>\n",
       "      <td>0</td>\n",
       "      <td>0</td>\n",
       "      <td>0</td>\n",
       "    </tr>\n",
       "  </tbody>\n",
       "</table>\n",
       "</div>"
      ],
      "text/plain": [
       "                                  forward_count  like_count  comment_count\n",
       "uid                                                                       \n",
       "0001565a5edece1669577e2ace9a6a3d              0           0              0\n",
       "000c663a24a2f91f4ba156fcd4f8b9f2              0           0              0\n",
       "0018b27ecc1370e4208b6b2f175e6651              0           0              0\n",
       "001e00fddab72bf7e6be3455e199904a              0           0              0\n",
       "001fe802d7b8a3f5782b25acf0410440              0           0              0\n",
       "00366f1ae39b881bdb2ba8687a4c912a              0           0              0\n",
       "0037104157ee5dd0987be03d750f0fd3              0           0              0\n",
       "005989ae18cab8d7896bc1ab84dcfe88              0           0              0\n",
       "00629276bf87e3b0ffb8930d658d21bd              0           0              0\n",
       "00677efdde3a4a8ce715c9477762a7c3              0           0              0\n",
       "008ae13aeeeb93aae3989160052ac874              0          17              3\n",
       "00c8986de0a9e2e8de08d9b7a315c690              0           0              0"
      ]
     },
     "execution_count": 12,
     "metadata": {},
     "output_type": "execute_result"
    }
   ],
   "source": [
    "df_processsum_2 = pd.DataFrame()\n",
    "df_processsum_2 = train_df.groupby('uid').agg({'forward_count':np.sum,'comment_count':np.sum,'like_count':np.sum})\n",
    "df_processsum_2.head(12)\n",
    "# df_processsum_2.reset_index(inplace = True)\n",
    "# df_processsum_2.columns=['forward_sum','comment_sum','like_sum']\n",
    "# # print df_processsum_2[df_processsum_1['comment_sum'].isin([17])]\n",
    "# print df_processsum_2[:12]"
   ]
  },
  {
   "cell_type": "code",
   "execution_count": 13,
   "metadata": {},
   "outputs": [
    {
     "data": {
      "text/html": [
       "<div>\n",
       "<style>\n",
       "    .dataframe thead tr:only-child th {\n",
       "        text-align: right;\n",
       "    }\n",
       "\n",
       "    .dataframe thead th {\n",
       "        text-align: left;\n",
       "    }\n",
       "\n",
       "    .dataframe tbody tr th {\n",
       "        vertical-align: top;\n",
       "    }\n",
       "</style>\n",
       "<table border=\"1\" class=\"dataframe\">\n",
       "  <thead>\n",
       "    <tr style=\"text-align: right;\">\n",
       "      <th></th>\n",
       "      <th>uid</th>\n",
       "      <th>mid</th>\n",
       "      <th>time</th>\n",
       "      <th>forward_count</th>\n",
       "      <th>comment_count</th>\n",
       "      <th>like_count</th>\n",
       "      <th>sum</th>\n",
       "    </tr>\n",
       "  </thead>\n",
       "  <tbody>\n",
       "    <tr>\n",
       "      <th>0</th>\n",
       "      <td>d38e9bed5d98110dc2489d0d1cac3c2a</td>\n",
       "      <td>7d45833d9865727a88b960b0603c19f6</td>\n",
       "      <td>2015/2/23 17:41</td>\n",
       "      <td>0</td>\n",
       "      <td>0</td>\n",
       "      <td>0</td>\n",
       "      <td>0</td>\n",
       "    </tr>\n",
       "    <tr>\n",
       "      <th>1</th>\n",
       "      <td>fa13974743d3fe6ff40d21b872325e9e</td>\n",
       "      <td>8169f1d45051e08ef213bf1106b1225d</td>\n",
       "      <td>2015/2/14 12:49</td>\n",
       "      <td>0</td>\n",
       "      <td>0</td>\n",
       "      <td>0</td>\n",
       "      <td>0</td>\n",
       "    </tr>\n",
       "    <tr>\n",
       "      <th>2</th>\n",
       "      <td>da534fe87e7a52777bee5c30573ed5fd</td>\n",
       "      <td>68cd0258c31c2c525f94febea2d9523b</td>\n",
       "      <td>2015/3/31 13:58</td>\n",
       "      <td>0</td>\n",
       "      <td>0</td>\n",
       "      <td>0</td>\n",
       "      <td>0</td>\n",
       "    </tr>\n",
       "    <tr>\n",
       "      <th>3</th>\n",
       "      <td>e06a22b7e065e559a1f0bf7841a85c51</td>\n",
       "      <td>00b9f86b4915aedb7db943c54fd19d59</td>\n",
       "      <td>2015/6/11 20:39</td>\n",
       "      <td>0</td>\n",
       "      <td>4</td>\n",
       "      <td>3</td>\n",
       "      <td>7</td>\n",
       "    </tr>\n",
       "    <tr>\n",
       "      <th>4</th>\n",
       "      <td>f9828598f9664d4e347ef2048ce17734</td>\n",
       "      <td>c7f6f66044c0c5a3330e2c5371be6824</td>\n",
       "      <td>2015/3/10 18:02</td>\n",
       "      <td>0</td>\n",
       "      <td>0</td>\n",
       "      <td>0</td>\n",
       "      <td>0</td>\n",
       "    </tr>\n",
       "  </tbody>\n",
       "</table>\n",
       "</div>"
      ],
      "text/plain": [
       "                                uid                               mid  \\\n",
       "0  d38e9bed5d98110dc2489d0d1cac3c2a  7d45833d9865727a88b960b0603c19f6   \n",
       "1  fa13974743d3fe6ff40d21b872325e9e  8169f1d45051e08ef213bf1106b1225d   \n",
       "2  da534fe87e7a52777bee5c30573ed5fd  68cd0258c31c2c525f94febea2d9523b   \n",
       "3  e06a22b7e065e559a1f0bf7841a85c51  00b9f86b4915aedb7db943c54fd19d59   \n",
       "4  f9828598f9664d4e347ef2048ce17734  c7f6f66044c0c5a3330e2c5371be6824   \n",
       "\n",
       "              time  forward_count  comment_count  like_count  sum  \n",
       "0  2015/2/23 17:41              0              0           0    0  \n",
       "1  2015/2/14 12:49              0              0           0    0  \n",
       "2  2015/3/31 13:58              0              0           0    0  \n",
       "3  2015/6/11 20:39              0              4           3    7  \n",
       "4  2015/3/10 18:02              0              0           0    0  "
      ]
     },
     "execution_count": 13,
     "metadata": {},
     "output_type": "execute_result"
    }
   ],
   "source": [
    "train_df.head()"
   ]
  },
  {
   "cell_type": "markdown",
   "metadata": {
    "collapsed": true
   },
   "source": [
    "### 发现问题"
   ]
  },
  {
   "cell_type": "markdown",
   "metadata": {},
   "source": [
    "- train_df的三列的顺序为：forward_count--comment_count--like_count，\n",
    "- 而df_processsum_2的顺序为：forward_count--like_count--comment_count\n",
    "- 所以再重新对列进行命名出现问题\n",
    "- 推测原因 groupby返回的是一个DataFrameGroupBy结构，这个结构须调用聚合函数（如sum）之后，才会得到结构为Series的数据结果。而agg是DataFrame的直接方法，返回的也是一个DataFrame，转换可能出现些许区别\n"
   ]
  },
  {
   "cell_type": "code",
   "execution_count": null,
   "metadata": {
    "collapsed": true
   },
   "outputs": [],
   "source": []
  }
 ],
 "metadata": {
  "anaconda-cloud": {},
  "kernelspec": {
   "display_name": "Python 2",
   "language": "python",
   "name": "python2"
  },
  "language_info": {
   "codemirror_mode": {
    "name": "ipython",
    "version": 2
   },
   "file_extension": ".py",
   "mimetype": "text/x-python",
   "name": "python",
   "nbconvert_exporter": "python",
   "pygments_lexer": "ipython2",
   "version": "2.7.15"
  },
  "toc": {
   "base_numbering": 1,
   "nav_menu": {},
   "number_sections": true,
   "sideBar": true,
   "skip_h1_title": false,
   "title_cell": "Table of Contents",
   "title_sidebar": "Contents",
   "toc_cell": false,
   "toc_position": {},
   "toc_section_display": true,
   "toc_window_display": false
  }
 },
 "nbformat": 4,
 "nbformat_minor": 2
}
