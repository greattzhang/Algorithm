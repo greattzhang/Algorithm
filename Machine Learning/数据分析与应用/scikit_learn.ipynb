{
 "cells": [
  {
   "cell_type": "markdown",
   "metadata": {},
   "source": [
    "- sklearn转换器、估计器的使用\n",
    "- sklearn数据标准化与数据划分\n",
    "- sklearn聚类、分类、回归模型的构建\n",
    "- sklearn聚类、分类、回归模型的评价"
   ]
  },
  {
   "cell_type": "markdown",
   "metadata": {},
   "source": [
    "# sklearn转换器处理数据"
   ]
  },
  {
   "cell_type": "markdown",
   "metadata": {},
   "source": [
    "- 数据的 标准化、二值化、数据集的分割、交叉验证、pca降维\n",
    "    - model_selection  模型选择模块\n",
    "    - preprocessing   数据预处理模块\n",
    "    - decompisition   特征分解模块\n"
   ]
  },
  {
   "cell_type": "markdown",
   "metadata": {},
   "source": [
    "## 加载datasets模块中的数据集"
   ]
  },
  {
   "cell_type": "markdown",
   "metadata": {},
   "source": [
    "- 该模块集成了部分经典数据集\n",
    "\n",
    "|数据集加载函数|数据集类型|数据集加载函数|数据集类型|\n",
    "|-|-|-|-|\n",
    "|load_boston|回归|load_breast_cancer|分类、聚类|\n",
    "|fetch_california_housing|回归|load_iris|分类、聚类|\n",
    "|load_digits|分类|load_wine|分类|"
   ]
  },
  {
   "cell_type": "code",
   "execution_count": 1,
   "metadata": {
    "collapsed": true
   },
   "outputs": [],
   "source": [
    "from sklearnlearn.datasets import load_breast_cancer"
   ]
  },
  {
   "cell_type": "code",
   "execution_count": 2,
   "metadata": {
    "collapsed": false
   },
   "outputs": [
    {
     "name": "stdout",
     "output_type": "stream",
     "text": [
      "breast_cancer数据集的长度为： 5\n",
      "breast_cancer数据集的类型为： <class 'sklearn.utils.Bunch'>\n"
     ]
    }
   ],
   "source": [
    "cancer = load_breast_cancer()##将数据集赋值给iris变量\n",
    "print('breast_cancer数据集的长度为：',len(cancer))\n",
    "print('breast_cancer数据集的类型为：',type(cancer))"
   ]
  },
  {
   "cell_type": "markdown",
   "metadata": {},
   "source": [
    "- 数据集的类型可以视为字典\n",
    "- sklearn的数据集可以使用\n",
    "    - data ===》 数据\n",
    "    - target ===》 标签\n",
    "    - feature_names ===》 特征名称\n",
    "    - DESCR ===》 描述信息"
   ]
  },
  {
   "cell_type": "code",
   "execution_count": 3,
   "metadata": {
    "collapsed": false
   },
   "outputs": [
    {
     "name": "stdout",
     "output_type": "stream",
     "text": [
      "breast_cancer数据集的数据为： \n",
      " [[  1.79900000e+01   1.03800000e+01   1.22800000e+02 ...,   2.65400000e-01\n",
      "    4.60100000e-01   1.18900000e-01]\n",
      " [  2.05700000e+01   1.77700000e+01   1.32900000e+02 ...,   1.86000000e-01\n",
      "    2.75000000e-01   8.90200000e-02]\n",
      " [  1.96900000e+01   2.12500000e+01   1.30000000e+02 ...,   2.43000000e-01\n",
      "    3.61300000e-01   8.75800000e-02]\n",
      " ..., \n",
      " [  1.66000000e+01   2.80800000e+01   1.08300000e+02 ...,   1.41800000e-01\n",
      "    2.21800000e-01   7.82000000e-02]\n",
      " [  2.06000000e+01   2.93300000e+01   1.40100000e+02 ...,   2.65000000e-01\n",
      "    4.08700000e-01   1.24000000e-01]\n",
      " [  7.76000000e+00   2.45400000e+01   4.79200000e+01 ...,   0.00000000e+00\n",
      "    2.87100000e-01   7.03900000e-02]]\n"
     ]
    }
   ],
   "source": [
    "cancer_data = cancer['data']\n",
    "print('breast_cancer数据集的数据为：','\\n',cancer_data)"
   ]
  },
  {
   "cell_type": "code",
   "execution_count": 4,
   "metadata": {
    "collapsed": false
   },
   "outputs": [
    {
     "name": "stdout",
     "output_type": "stream",
     "text": [
      "breast_cancer数据集的标签为：\n",
      " [0 0 0 0 0 0 0 0 0 0 0 0 0 0 0 0 0 0 0 1 1 1 0 0 0 0 0 0 0 0 0 0 0 0 0 0 0\n",
      " 1 0 0 0 0 0 0 0 0 1 0 1 1 1 1 1 0 0 1 0 0 1 1 1 1 0 1 0 0 1 1 1 1 0 1 0 0\n",
      " 1 0 1 0 0 1 1 1 0 0 1 0 0 0 1 1 1 0 1 1 0 0 1 1 1 0 0 1 1 1 1 0 1 1 0 1 1\n",
      " 1 1 1 1 1 1 0 0 0 1 0 0 1 1 1 0 0 1 0 1 0 0 1 0 0 1 1 0 1 1 0 1 1 1 1 0 1\n",
      " 1 1 1 1 1 1 1 1 0 1 1 1 1 0 0 1 0 1 1 0 0 1 1 0 0 1 1 1 1 0 1 1 0 0 0 1 0\n",
      " 1 0 1 1 1 0 1 1 0 0 1 0 0 0 0 1 0 0 0 1 0 1 0 1 1 0 1 0 0 0 0 1 1 0 0 1 1\n",
      " 1 0 1 1 1 1 1 0 0 1 1 0 1 1 0 0 1 0 1 1 1 1 0 1 1 1 1 1 0 1 0 0 0 0 0 0 0\n",
      " 0 0 0 0 0 0 0 1 1 1 1 1 1 0 1 0 1 1 0 1 1 0 1 0 0 1 1 1 1 1 1 1 1 1 1 1 1\n",
      " 1 0 1 1 0 1 0 1 1 1 1 1 1 1 1 1 1 1 1 1 1 0 1 1 1 0 1 0 1 1 1 1 0 0 0 1 1\n",
      " 1 1 0 1 0 1 0 1 1 1 0 1 1 1 1 1 1 1 0 0 0 1 1 1 1 1 1 1 1 1 1 1 0 0 1 0 0\n",
      " 0 1 0 0 1 1 1 1 1 0 1 1 1 1 1 0 1 1 1 0 1 1 0 0 1 1 1 1 1 1 0 1 1 1 1 1 1\n",
      " 1 0 1 1 1 1 1 0 1 1 0 1 1 1 1 1 1 1 1 1 1 1 1 0 1 0 0 1 0 1 1 1 1 1 0 1 1\n",
      " 0 1 0 1 1 0 1 0 1 1 1 1 1 1 1 1 0 0 1 1 1 1 1 1 0 1 1 1 1 1 1 1 1 1 1 0 1\n",
      " 1 1 1 1 1 1 0 1 0 1 1 0 1 1 1 1 1 0 0 1 0 1 0 1 1 1 1 1 0 1 1 0 1 0 1 0 0\n",
      " 1 1 1 0 1 1 1 1 1 1 1 1 1 1 1 0 1 0 0 1 1 1 1 1 1 1 1 1 1 1 1 1 1 1 1 1 1\n",
      " 1 1 1 1 1 1 1 0 0 0 0 0 0 1]\n"
     ]
    }
   ],
   "source": [
    "cancer_target = cancer['target'] ## 取出数据集的标签\n",
    "print('breast_cancer数据集的标签为：\\n',cancer_target)"
   ]
  },
  {
   "cell_type": "code",
   "execution_count": 5,
   "metadata": {
    "collapsed": false
   },
   "outputs": [
    {
     "name": "stdout",
     "output_type": "stream",
     "text": [
      "breast_cancer数据集的特征名为：\n",
      " ['mean radius' 'mean texture' 'mean perimeter' 'mean area'\n",
      " 'mean smoothness' 'mean compactness' 'mean concavity'\n",
      " 'mean concave points' 'mean symmetry' 'mean fractal dimension'\n",
      " 'radius error' 'texture error' 'perimeter error' 'area error'\n",
      " 'smoothness error' 'compactness error' 'concavity error'\n",
      " 'concave points error' 'symmetry error' 'fractal dimension error'\n",
      " 'worst radius' 'worst texture' 'worst perimeter' 'worst area'\n",
      " 'worst smoothness' 'worst compactness' 'worst concavity'\n",
      " 'worst concave points' 'worst symmetry' 'worst fractal dimension']\n"
     ]
    }
   ],
   "source": [
    "cancer_names = cancer['feature_names'] ## 取出数据集的特征名\n",
    "print('breast_cancer数据集的特征名为：\\n',cancer_names)"
   ]
  },
  {
   "cell_type": "code",
   "execution_count": 6,
   "metadata": {
    "collapsed": false
   },
   "outputs": [
    {
     "name": "stdout",
     "output_type": "stream",
     "text": [
      "breast_cancer数据集的描述信息为：\n",
      " Breast Cancer Wisconsin (Diagnostic) Database\n",
      "=============================================\n",
      "\n",
      "Notes\n",
      "-----\n",
      "Data Set Characteristics:\n",
      "    :Number of Instances: 569\n",
      "\n",
      "    :Number of Attributes: 30 numeric, predictive attributes and the class\n",
      "\n",
      "    :Attribute Information:\n",
      "        - radius (mean of distances from center to points on the perimeter)\n",
      "        - texture (standard deviation of gray-scale values)\n",
      "        - perimeter\n",
      "        - area\n",
      "        - smoothness (local variation in radius lengths)\n",
      "        - compactness (perimeter^2 / area - 1.0)\n",
      "        - concavity (severity of concave portions of the contour)\n",
      "        - concave points (number of concave portions of the contour)\n",
      "        - symmetry \n",
      "        - fractal dimension (\"coastline approximation\" - 1)\n",
      "\n",
      "        The mean, standard error, and \"worst\" or largest (mean of the three\n",
      "        largest values) of these features were computed for each image,\n",
      "        resulting in 30 features.  For instance, field 3 is Mean Radius, field\n",
      "        13 is Radius SE, field 23 is Worst Radius.\n",
      "\n",
      "        - class:\n",
      "                - WDBC-Malignant\n",
      "                - WDBC-Benign\n",
      "\n",
      "    :Summary Statistics:\n",
      "\n",
      "    ===================================== ====== ======\n",
      "                                           Min    Max\n",
      "    ===================================== ====== ======\n",
      "    radius (mean):                        6.981  28.11\n",
      "    texture (mean):                       9.71   39.28\n",
      "    perimeter (mean):                     43.79  188.5\n",
      "    area (mean):                          143.5  2501.0\n",
      "    smoothness (mean):                    0.053  0.163\n",
      "    compactness (mean):                   0.019  0.345\n",
      "    concavity (mean):                     0.0    0.427\n",
      "    concave points (mean):                0.0    0.201\n",
      "    symmetry (mean):                      0.106  0.304\n",
      "    fractal dimension (mean):             0.05   0.097\n",
      "    radius (standard error):              0.112  2.873\n",
      "    texture (standard error):             0.36   4.885\n",
      "    perimeter (standard error):           0.757  21.98\n",
      "    area (standard error):                6.802  542.2\n",
      "    smoothness (standard error):          0.002  0.031\n",
      "    compactness (standard error):         0.002  0.135\n",
      "    concavity (standard error):           0.0    0.396\n",
      "    concave points (standard error):      0.0    0.053\n",
      "    symmetry (standard error):            0.008  0.079\n",
      "    fractal dimension (standard error):   0.001  0.03\n",
      "    radius (worst):                       7.93   36.04\n",
      "    texture (worst):                      12.02  49.54\n",
      "    perimeter (worst):                    50.41  251.2\n",
      "    area (worst):                         185.2  4254.0\n",
      "    smoothness (worst):                   0.071  0.223\n",
      "    compactness (worst):                  0.027  1.058\n",
      "    concavity (worst):                    0.0    1.252\n",
      "    concave points (worst):               0.0    0.291\n",
      "    symmetry (worst):                     0.156  0.664\n",
      "    fractal dimension (worst):            0.055  0.208\n",
      "    ===================================== ====== ======\n",
      "\n",
      "    :Missing Attribute Values: None\n",
      "\n",
      "    :Class Distribution: 212 - Malignant, 357 - Benign\n",
      "\n",
      "    :Creator:  Dr. William H. Wolberg, W. Nick Street, Olvi L. Mangasarian\n",
      "\n",
      "    :Donor: Nick Street\n",
      "\n",
      "    :Date: November, 1995\n",
      "\n",
      "This is a copy of UCI ML Breast Cancer Wisconsin (Diagnostic) datasets.\n",
      "https://goo.gl/U2Uwz2\n",
      "\n",
      "Features are computed from a digitized image of a fine needle\n",
      "aspirate (FNA) of a breast mass.  They describe\n",
      "characteristics of the cell nuclei present in the image.\n",
      "\n",
      "Separating plane described above was obtained using\n",
      "Multisurface Method-Tree (MSM-T) [K. P. Bennett, \"Decision Tree\n",
      "Construction Via Linear Programming.\" Proceedings of the 4th\n",
      "Midwest Artificial Intelligence and Cognitive Science Society,\n",
      "pp. 97-101, 1992], a classification method which uses linear\n",
      "programming to construct a decision tree.  Relevant features\n",
      "were selected using an exhaustive search in the space of 1-4\n",
      "features and 1-3 separating planes.\n",
      "\n",
      "The actual linear program used to obtain the separating plane\n",
      "in the 3-dimensional space is that described in:\n",
      "[K. P. Bennett and O. L. Mangasarian: \"Robust Linear\n",
      "Programming Discrimination of Two Linearly Inseparable Sets\",\n",
      "Optimization Methods and Software 1, 1992, 23-34].\n",
      "\n",
      "This database is also available through the UW CS ftp server:\n",
      "\n",
      "ftp ftp.cs.wisc.edu\n",
      "cd math-prog/cpo-dataset/machine-learn/WDBC/\n",
      "\n",
      "References\n",
      "----------\n",
      "   - W.N. Street, W.H. Wolberg and O.L. Mangasarian. Nuclear feature extraction \n",
      "     for breast tumor diagnosis. IS&T/SPIE 1993 International Symposium on \n",
      "     Electronic Imaging: Science and Technology, volume 1905, pages 861-870,\n",
      "     San Jose, CA, 1993.\n",
      "   - O.L. Mangasarian, W.N. Street and W.H. Wolberg. Breast cancer diagnosis and \n",
      "     prognosis via linear programming. Operations Research, 43(4), pages 570-577, \n",
      "     July-August 1995.\n",
      "   - W.H. Wolberg, W.N. Street, and O.L. Mangasarian. Machine learning techniques\n",
      "     to diagnose breast cancer from fine-needle aspirates. Cancer Letters 77 (1994) \n",
      "     163-171.\n",
      "\n"
     ]
    }
   ],
   "source": [
    "cancer_desc = cancer['DESCR'] ## 取出数据集的描述信息\n",
    "print('breast_cancer数据集的描述信息为：\\n',cancer_desc)"
   ]
  },
  {
   "cell_type": "markdown",
   "metadata": {},
   "source": [
    "## 将数据集划分为训练集和测试集"
   ]
  },
  {
   "cell_type": "markdown",
   "metadata": {},
   "source": [
    "- 在数据分析过程中，为了保证模型在实际系统中能够起到预期作用，一般需要将样本分成独立的3部分：\n",
    "    - 训练集（trainset）、验证集（validationset）和测试集（testset）。\n",
    "- 其中，训练集用于估计模型，验证集用于确定网络结构或者控制模型复杂程度的参数，\n",
    "- 而测试集则用于检验最优模型的性能。\n",
    "- 典型的划分方式是训练集占总样本的50％，而验证集和测试集各占25％。\n",
    "    - 当数据总量较少的时候，使用上面的方法将数据划分为3部分就不合适了。\n",
    "- 常用的方法是留少部分做测试集，然后对其余N个样本采用K折交叉验证法。\n",
    "    - 其基本步骤是\n",
    "        - 将样本打乱，\n",
    "        - 然后均匀分成K份，\n",
    "        - 轮流选择其中K_1份做训练，剩余的一份做验证，\n",
    "        - 计算预测误差平方和，\n",
    "        - 最后把K次的预测误差平方和的均值作为选择最优模型结构的依据。\n",
    "- sklearn的model_selection模块提供了train_test_split函数，能够对数据集进行拆分，\n",
    "- sklearn.model_selection.train_test_split(*arrays,**options)\n",
    "\n",
    "\n",
    "<table>\n",
    "\t<tr>\n",
    "\t\t<td>参数名称</td>\n",
    "\t\t<td>说明</td>\n",
    "\t</tr>\n",
    "\t<tr>\n",
    "\t\t<td>arrays</td>\n",
    "\t\t<td>接收一个或多个数据集。代表需要划分的数据集。  \n",
    "\t\t若为分类回归，则分别传入数据和标签；若为聚类，则传入数据。无默认</td>\n",
    "\t</tr>\n",
    "\t<tr>\n",
    "\t\t<td>test_size</td>\n",
    "\t\t<td>接收float、而类型的数或者None代表测试集的大小。  \n",
    "如果传入的为float类型的数据，则需要限定在0~1之间，代表测试集在总数中的占比；  \n",
    "如果传入的为int类型的数据，则表示测试集记录的绝对数目。该参数与train_size可以只传入一个。在0.21  \n",
    "版本前，若testsize和trainsize均为默认，则test_size为25％\n",
    "</td>\n",
    "\t</tr>\n",
    "\t<tr>\n",
    "\t\t<td>train_size</td>\n",
    "\t\t<td>接收float、int类型的数据或者None。代表测试集的大小。该参数与train_size可以只传入一个。</td>\n",
    "\t</tr>\n",
    "\t<tr>\n",
    "\t\t<td>random_state</td>\n",
    "\t\t<td>接收int。代表随机种子编号，相同随机种子编号产生相同的随机结果，不同的随机种子编号产生不同的随机结果。默认为None\n",
    "</td>\n",
    "\t</tr>\n",
    "\t<tr>\n",
    "\t\t<td>shuffle</td>\n",
    "\t\t<td>接收boolean。代表是否进行有放回抽样。若该参数取值为True，则stratify参数必须不能为空</td>\n",
    "\t</tr>\n",
    "\t<tr>\n",
    "\t\t<td>stratify</td>\n",
    "\t\t<td>接收array或者None。如果不为None，则使用传入的标签进行分层抽样</td>\n",
    "\t</tr>\n",
    "\n",
    "</table>\n"
   ]
  },
  {
   "cell_type": "markdown",
   "metadata": {},
   "source": [
    "- train_test_split函数分别将传入的数据划分为训练集和测试集。\n",
    "- 如果传入的是一组数据，那么生成的就是这一组数据随机划分后的训练集和测试集，总共两组。\n",
    "- 如果传入的是两组数据，则生成的训练集和测试集分别两组，总共4组。\n",
    "- 将数据划分为训练集和测试集，"
   ]
  },
  {
   "cell_type": "code",
   "execution_count": 7,
   "metadata": {
    "collapsed": false
   },
   "outputs": [
    {
     "name": "stdout",
     "output_type": "stream",
     "text": [
      "原始数据集数据的形状为： (569, 30)\n",
      "原始数据集标签的形状为： (569,)\n"
     ]
    }
   ],
   "source": [
    "print('原始数据集数据的形状为：',cancer_data.shape)\n",
    "print('原始数据集标签的形状为：',cancer_target.shape)"
   ]
  },
  {
   "cell_type": "code",
   "execution_count": 8,
   "metadata": {
    "collapsed": false
   },
   "outputs": [
    {
     "name": "stdout",
     "output_type": "stream",
     "text": [
      "训练集数据的形状为： (455, 30)\n",
      "训练集标签的形状为： (455,)\n",
      "测试集数据的形状为： (114, 30)\n",
      "测试集标签的形状为： (114,)\n"
     ]
    }
   ],
   "source": [
    "from sklearn.model_selection import train_test_split\n",
    "\n",
    "cancer_data_train, cancer_data_test,cancer_target_train, cancer_target_test = train_test_split(cancer_data, cancer_target,\n",
    "                                                                                               test_size=0.2, random_state=42)\n",
    "print('训练集数据的形状为：',cancer_data_train.shape)\n",
    "print('训练集标签的形状为：',cancer_target_train.shape)\n",
    "print('测试集数据的形状为：',cancer_data_test.shape)\n",
    "print('测试集标签的形状为：',cancer_target_test.shape)"
   ]
  },
  {
   "cell_type": "markdown",
   "metadata": {},
   "source": [
    "- 在model_selection模块中还提供了其他数集划分的函数，如PredefinedSplit、Shumcsplit等。"
   ]
  },
  {
   "cell_type": "markdown",
   "metadata": {},
   "source": [
    "## 使用skiearn转换器进行数据预处理与降维"
   ]
  },
  {
   "cell_type": "markdown",
   "metadata": {},
   "source": [
    "- 为帮助用户实现大量的特征处理相关操作，sklearn把相关的功能封装为转换器。转换器主要包括3个方法：\n",
    "- fit、transform和fit_transform \n",
    "\n",
    "<table>\n",
    "\t<tr>\n",
    "\t\t<td>方法名称</td>\n",
    "\t\t<td>说明</td>\n",
    "\t</tr>\n",
    "\t<tr>\n",
    "\t\t<td>fit</td>\n",
    "\t\t<td>fit方法主要通过分析特征和目标值提取有价值的信息，这些信息可以是统计量，也可以是权值系数等</td>\n",
    "\t</tr>\n",
    "\t<tr>\n",
    "\t\t<td>transform</td>\n",
    "\t\t<td>transform方法主要用来对特征进行转换。从可利用信息的角度分为无信息转换和有信息转换。  \n",
    "无信息转换是指不利用任何其他信息进行转换，比如指数和对数函数转换等。  \n",
    "有信息转换根据是否利用目标值向量又可分为无监督转换和有监督转换。  \n",
    "无监督转换指只利用特征的统计信息的转换，比如标准化和PCA降维等。  \n",
    "有监督转换指既利用了特征信息又利用了目标值信息的转换，比如通过模型选择特征和LDA降维等</td>\n",
    "\t</tr>\n",
    "\t<tr>\n",
    "\t\t<td>fit_transform</td>\n",
    "\t\t<td>fit_transform方法就是先调用fit方法，然后调用transform方法</td>\n",
    "\t</tr>\n",
    "</table>\n",
    "\n",
    "- 目前，使用sklearn转换器能够实现对传入的Numpy数组进行标准化处理、归一化处理、二值化处理和PCA降维等操作。\n",
    "- 基于pandas库介绍了标准化处理的原理、概念与方法。但是在数据分析过程中，\n",
    "- 各类特征处理相关的操作都需要对训练集和测试集分开进行，需要将训练集的操作规则、权重系数等应用到测试集中。\n",
    "- 如果使用pandas,则应用至测试集的过程相对烦琐，使用sklearn转换器可以解决这一困扰。\n"
   ]
  },
  {
   "cell_type": "markdown",
   "metadata": {},
   "source": [
    "- 对iris数据集进行离差标准化"
   ]
  },
  {
   "cell_type": "code",
   "execution_count": 9,
   "metadata": {
    "collapsed": false
   },
   "outputs": [
    {
     "name": "stdout",
     "output_type": "stream",
     "text": [
      "离差标准化前训练集数据的最小值为： 0.0\n",
      "离差标准化后训练集数据的最小值为： 0.0\n",
      "离差标准化前训练集数据的最大值为： 4254.0\n",
      "离差标准化后训练集数据的最大值为： 1.0\n",
      "离差标准化前测试集数据的最小值为： 0.0\n",
      "离差标准化后测试集数据的最小值为： -0.0571276027763\n",
      "离差标准化前测试集数据的最大值为： 3432.0\n",
      "离差标准化后测试集数据的最大值为： 1.3264399567\n"
     ]
    }
   ],
   "source": [
    "import numpy as np\n",
    "from sklearn.preprocessing import MinMaxScaler\n",
    "\n",
    "Scaler = MinMaxScaler().fit(cancer_data_train) ##生成规则\n",
    "##将规则应用于训练集\n",
    "cancer_trainScaler = Scaler.transform(cancer_data_train) \n",
    "##将规则应用于测试集\n",
    "cancer_testScaler = Scaler.transform(cancer_data_test)\n",
    "print('离差标准化前训练集数据的最小值为：',np.min(cancer_data_train))\n",
    "print('离差标准化后训练集数据的最小值为：',np.min(cancer_trainScaler))\n",
    "print('离差标准化前训练集数据的最大值为：',np.max(cancer_data_train))\n",
    "print('离差标准化后训练集数据的最大值为：',np.max(cancer_trainScaler))\n",
    "print('离差标准化前测试集数据的最小值为：',np.min(cancer_data_test))\n",
    "print('离差标准化后测试集数据的最小值为：',np.min(cancer_testScaler))\n",
    "print('离差标准化前测试集数据的最大值为：',np.max(cancer_data_test))\n",
    "print('离差标准化后测试集数据的最大值为：',np.max(cancer_testScaler))"
   ]
  },
  {
   "cell_type": "markdown",
   "metadata": {},
   "source": [
    "- 不难发现，离差标谁化之后的训练集数据的最小值、最大值的确限定在[0, 1]区间，\n",
    "- 同时由于测试集应用了训练集的离差标准化规则，数据超出了[0, 1]的范围。\n",
    "- 这也的面证明了此处应用了训练集的规则，如果两个数据集单独做离差标准化，或者两个数据集合并做离差标准化，根据公式则取值范围还是会限定在[0, 1]区间。\n",
    "- sklean除了提供离差标准化函数MinMaxScaler外，还提供了一系列数据预处理函数，\n",
    "\n",
    "|函数名称|说明|\n",
    "|-|-|\n",
    "|StandardScaler|对特征进行标准差标准化|\n",
    "|Normalizer|对特征进行归一化|\n",
    "|Binarizer|对定量特征进行二值化处理|\n",
    "|OneHotEncoder|对定性特征进行独热编码处理|\n",
    "|FunctionTransformer|对特征进行自定义函数变换|"
   ]
  },
  {
   "cell_type": "markdown",
   "metadata": {},
   "source": [
    "- sklearn除了提供基本的特征变换函数外，还提供了降维算法、特征选择算法，"
   ]
  },
  {
   "cell_type": "markdown",
   "metadata": {},
   "source": [
    "- 对breast_cancer数据集进行PCA降维"
   ]
  },
  {
   "cell_type": "code",
   "execution_count": 10,
   "metadata": {
    "collapsed": false
   },
   "outputs": [
    {
     "name": "stdout",
     "output_type": "stream",
     "text": [
      "PCA降维前训练集数据的形状为： (455, 30)\n",
      "PCA降维后训练集数据的形状为： (455, 10)\n",
      "PCA降维前测试集数据的形状为： (114, 30)\n",
      "PCA降维后测试集数据的形状为： (114, 10)\n"
     ]
    }
   ],
   "source": [
    "from sklearn.decomposition import PCA\n",
    "\n",
    "pca_model = PCA(n_components=10).fit(cancer_trainScaler) ##生成规则\n",
    "cancer_trainPca = pca_model.transform(cancer_trainScaler) ##将规则应用于训练集\n",
    "cancer_testPca = pca_model.transform(cancer_testScaler) ##将规则应用于测试集\n",
    "\n",
    "print('PCA降维前训练集数据的形状为：',cancer_trainScaler.shape)\n",
    "print('PCA降维后训练集数据的形状为：',cancer_trainPca.shape)\n",
    "print('PCA降维前测试集数据的形状为：',cancer_testScaler.shape)\n",
    "print('PCA降维后测试集数据的形状为：',cancer_testPca.shape)"
   ]
  },
  {
   "cell_type": "markdown",
   "metadata": {},
   "source": [
    "<table>\n",
    "\t<tr>\n",
    "\t\t<td>参数名称</td>\n",
    "\t\t<td>说明</td>\n",
    "\t</tr>\n",
    "\t<tr>\n",
    "\t\t<td>n_components</td>\n",
    "\t\t<td>接收None、int、float或mle。未指定时，代表所有特征均会被保留下来；  \n",
    "如果为int，则表示将原始数据降低到n个维度；  \n",
    "如果为float,则PCA根据样本特征方差来决定降维后的维度数；  \n",
    "赋值为“mle。\"，会用MLE算法根据特征的方差分布情况自动选择一定数量的主成分特征来降维。默认为None\n",
    "</td>\n",
    "\t</tr>\n",
    "\t<tr>\n",
    "\t\t<td>copy</td>\n",
    "\t\t<td>接收boolean, 代表是否在运行算法时将原始数据复制一份，  \n",
    "如果为True，则运行后，原始数据的值不会有任何改变；  \n",
    "如果为False，则运行PCA算法后，原始数据的值会发生改变。默认为True</td>\n",
    "\t</tr>\n",
    "\t<tr>\n",
    "\t\t<td>whiten</td>\n",
    "\t\t<td>接收boolean. 表示白化。所谓白化，就是对降维后的数据的每个特征进行归一化，让方差都为1。默认为False</td>\n",
    "\t</tr>\n",
    "\t<tr>\n",
    "\t\t<td>svd_solver</td>\n",
    "\t\t<td>接收auto、full、arpack、randomized. 代表使用的SVD算法。  \n",
    "randomized一般适用于数据量大，数据维度多，同时主成分数目比例又较低的PCA降维，它使用了一些\n",
    "加快SVD的随机算法。  \n",
    "full是使用sciPy库实现的传统SVD算法。  \n",
    "arpack和randomized的适用场景类似，区别是，randomized使用的是sklearn自己的SVD实现，而arpack直接使用了sciPy库的sparseSVD实现。auto则代表PCA类会自动在上述3种算法中去权衡，选择一个合适的SVD算法来降维。默认为auto\n",
    "</td>\n",
    "\t</tr>\n",
    "</table>"
   ]
  },
  {
   "cell_type": "markdown",
   "metadata": {},
   "source": [
    "- 小任务\n",
    "    - 读取数据\n",
    "        - 自带的Boston数据集\n",
    "    - 将数据集划分为训练集和测试集\n",
    "        - train_test_split\n",
    "    - 转换器进行数据预处理\n",
    "        - stdScale.transform分别对训练集和测试机集进行处理\n",
    "    - PCA降维\n",
    "        - pac.transform对训练集和测试机进行降维"
   ]
  },
  {
   "cell_type": "code",
   "execution_count": 11,
   "metadata": {
    "collapsed": false
   },
   "outputs": [
    {
     "name": "stdout",
     "output_type": "stream",
     "text": [
      "boston数据集数据的形状为： (506, 13)\n",
      "boston数据集标签的形状为： (506,)\n",
      "boston数据集特征名的形状为： (13,)\n"
     ]
    }
   ],
   "source": [
    "from sklearn.datasets import load_boston\n",
    "boston = load_boston()\n",
    "boston_data = boston['data']\n",
    "boston_target = boston['target']\n",
    "boston_names = boston['feature_names']\n",
    "print('boston数据集数据的形状为：',boston_data.shape)\n",
    "print('boston数据集标签的形状为：',boston_target.shape)\n",
    "print('boston数据集特征名的形状为：',boston_names.shape)\n"
   ]
  },
  {
   "cell_type": "code",
   "execution_count": 12,
   "metadata": {
    "collapsed": false
   },
   "outputs": [
    {
     "name": "stdout",
     "output_type": "stream",
     "text": [
      "训练集数据的形状为： (404, 13)\n",
      "训练集标签的形状为： (404,)\n",
      "测试集数据的形状为： (102, 13)\n",
      "测试集标签的形状为： (102,)\n"
     ]
    }
   ],
   "source": [
    "from sklearn.model_selection import train_test_split\n",
    "boston_data_train, boston_data_test, boston_target_train, boston_target_test = train_test_split(boston_data, boston_target, \n",
    "                                                                                                test_size=0.2, random_state=42)\n",
    "print('训练集数据的形状为：',boston_data_train.shape)\n",
    "print('训练集标签的形状为：',boston_target_train.shape)\n",
    "print('测试集数据的形状为：',boston_data_test.shape)\n",
    "print('测试集标签的形状为：',boston_target_test.shape)"
   ]
  },
  {
   "cell_type": "code",
   "execution_count": 13,
   "metadata": {
    "collapsed": false
   },
   "outputs": [
    {
     "name": "stdout",
     "output_type": "stream",
     "text": [
      "标准差标准化后训练集数据的方差为： 1.0\n",
      "标准差标准化后训练集数据的均值为： 1.35898739161e-15\n",
      "标准差标准化后测试集数据的方差为： 0.9475364908\n",
      "标准差标准化后测试集数据的均值为： 0.0307530028937\n"
     ]
    }
   ],
   "source": [
    "from sklearn.preprocessing import StandardScaler\n",
    "stdScale = StandardScaler().fit(boston_data_train) ## 生成规则\n",
    "## 将规则应用于训练集\n",
    "boston_trainScaler = stdScale.transform(boston_data_train) \n",
    "## 将规则应用于测试集\n",
    "boston_testScaler = stdScale.transform(boston_data_test)\n",
    "print('标准差标准化后训练集数据的方差为：', np.var(boston_trainScaler))\n",
    "print('标准差标准化后训练集数据的均值为：', np.mean(boston_trainScaler))\n",
    "print('标准差标准化后测试集数据的方差为：', np.var(boston_testScaler))\n",
    "print('标准差标准化后测试集数据的均值为：', np.mean(boston_testScaler))"
   ]
  },
  {
   "cell_type": "code",
   "execution_count": 14,
   "metadata": {
    "collapsed": false
   },
   "outputs": [
    {
     "name": "stdout",
     "output_type": "stream",
     "text": [
      "降维后boston数据集数据测试集的形状为： (404, 5)\n",
      "降维后boston数据集数据训练集的形状为： (102, 5)\n"
     ]
    }
   ],
   "source": [
    "from sklearn.decomposition import PCA\n",
    "\n",
    "pca = PCA(n_components=5).fit(boston_trainScaler) ## 生成规则\n",
    "## 将规则应用于训练集\n",
    "boston_trainPca = pca.transform(boston_trainScaler) \n",
    "## 将规则应用于测试集\n",
    "boston_testPca = pca.transform(boston_testScaler)\n",
    "print('降维后boston数据集数据测试集的形状为：',boston_trainPca.shape)\n",
    "print('降维后boston数据集数据训练集的形状为：',boston_testPca.shape)"
   ]
  },
  {
   "cell_type": "markdown",
   "metadata": {},
   "source": [
    "# 构建并评价聚类模型"
   ]
  },
  {
   "cell_type": "markdown",
   "metadata": {},
   "source": [
    "- 聚类分析是在没有给定划分类别的情况下，根据数据相似度进行样本分组的一种方法。\n",
    "- 聚类模型可以将无类标记的数据聚集为多个簇，视为一类，是一种非监督的学习算法。\n",
    "- 在商业上，聚类可以帮助市场分析人员从消费者数据库中区分出不同的消费群体，并且概括出每一类消费者的消费模式或消费习惯。\n",
    "- 聚类分析也可以作为数据分析算法中其他分析算法的一个预处理步骤，如**异常值识别、连续型特征离散化**等。\n",
    "\n",
    "\n",
    "1. 使用sklearn估计器构建K-Means聚类模型。\n",
    "2. 根据聚类模型评价指标评价K-Means聚类模型。"
   ]
  },
  {
   "cell_type": "markdown",
   "metadata": {},
   "source": [
    "## 使用sklearn估计器构建聚类模型"
   ]
  },
  {
   "cell_type": "markdown",
   "metadata": {},
   "source": [
    "- 聚类的输入是一组未被标记的样本，聚类根据数据自身的距离或相似度将它们划分为若干组，划分的原则是组内（内部）距离最小化，而组间（外部）距离最大化"
   ]
  },
  {
   "cell_type": "markdown",
   "metadata": {},
   "source": [
    "<table>\n",
    "\t<tr>\n",
    "\t\t<td>算法类别</td>\n",
    "\t\t<td>包括的主要算法</td>\n",
    "\t</tr>\n",
    "\t<tr>\n",
    "\t\t<td>划分（分裂）方法</td>\n",
    "\t\t<td>K-Means算法（k平均）、K-MEDOIDS算法（K-中心点）和CLARANS算法（基于选择的算法）</td>\n",
    "\t</tr>\n",
    "\t<tr>\n",
    "\t\t<td>层次分析方法</td>\n",
    "\t\t<td>BIRCH算法（平衡迭代规约和聚类）、CURE算法（代表点聚类）和CHAMELEON算法（动态模型）</td>\n",
    "\t</tr>\n",
    "\t<tr>\n",
    "\t\t<td>基于密度的方法</td>\n",
    "\t\t<td>DBSCAN算法（基于高密度连接区域）、DENCLUE算法（密度分布函数）和OPTICS算法（对象排序识别）</td>\n",
    "\t</tr>\n",
    "\t<tr>\n",
    "\t\t<td>基于网格的方法</td>\n",
    "\t\t<td>STING算法（统计信息网络）、CLIOUE算法（聚类高维空间）和WAVE-CLUSTER算法（小波变换）</td>\n",
    "\t</tr>\n",
    "</table>\n"
   ]
  },
  {
   "cell_type": "markdown",
   "metadata": {},
   "source": [
    "- cluster提供的聚类算法及适用范围\n",
    "<table>\n",
    "\t<tr>\n",
    "\t\t<td>**函数名称**</td>\n",
    "\t\t<td>**参数**</td>\n",
    "\t\t<td>**适用范围**</td>\n",
    "\t\t<td>**距离度量**</td>\n",
    "\t</tr>\n",
    "\t<tr>\n",
    "\t\t<td>K-Means</td>\n",
    "\t\t<td>簇数</td>\n",
    "\t\t<td>可用于样本数目很大、数目中等的场景</td>\n",
    "\t\t<td>点之间的距离</td>\n",
    "\t</tr>\n",
    "\t<tr>\n",
    "\t\t<td>Spectral clustering</td>\n",
    "\t\t<td>簇数</td>\n",
    "\t\t<td>可用于样本数目中等、数目较小的场景</td>\n",
    "\t\t<td>图距离</td>\n",
    "\t</tr>\n",
    "\t<tr>\n",
    "\t\t<td>Ward hierarchical clustering</td>\n",
    "\t\t<td>簇数</td>\n",
    "\t\t<td>可用于样本数目较大、聚类数目较大的场景</td>\n",
    "\t\t<td>点之间的距离</td>\t\n",
    "\t</tr>\n",
    "\t<tr>\n",
    "\t\t<td>Agglomerative clustering</td>\n",
    "\t\t<td>簇数、链接类型、距离</td>\n",
    "\t\t<td>可用于样本数目较大、聚类数目较大的场景</td>\n",
    "\t\t<td>任意成对点线图间的距离</td>\t\n",
    "\t</tr>\n",
    "\t<tr>\n",
    "\t\t<td>DBSCAN</td>\n",
    "\t\t<td>半径大小、最低成员数目</td>\n",
    "\t\t<td>可用于样本数目很大、聚类数目中等的场景</td>\n",
    "\t\t<td>最近的点之间的距离</td>\t\n",
    "\t</tr>\n",
    "\t<tr>\n",
    "\t\t<td>Birch</td>\n",
    "\t\t<td>分支因子、阈值、可选全局集群</td>\n",
    "\t\t<td>可用于样本数目很大、聚类数目较大的场景</td>\n",
    "\t\t<td>点之间的欧式距离</td>\t\n",
    "\t</tr>\n",
    "</table>\n"
   ]
  },
  {
   "cell_type": "markdown",
   "metadata": {},
   "source": [
    "- 聚类算法实现需要sklearn估计器（Estimator）。sklearn有fit和predict两个方法\n",
    "\n",
    "|方法名称|说明|\n",
    "|-|-|\n",
    "|fit|fit方法主要用于训练算法。该方法可接收用于有监督学习的训练集及其标签两个参数，也可以接收用于无监督学习的数据|\n",
    "|predict|用于预测有监督学习的测试集标签，亦可以用于划分传入数据的类别|"
   ]
  },
  {
   "cell_type": "code",
   "execution_count": 1,
   "metadata": {
    "collapsed": false
   },
   "outputs": [
    {
     "name": "stdout",
     "output_type": "stream",
     "text": [
      "构建的K-Means模型为：\n",
      " KMeans(algorithm='auto', copy_x=True, init='k-means++', max_iter=300,\n",
      "    n_clusters=3, n_init=10, n_jobs=1, precompute_distances='auto',\n",
      "    random_state=123, tol=0.0001, verbose=0)\n",
      "花瓣花萼长度宽度全为1.5的鸢尾花预测类别为： 0\n"
     ]
    }
   ],
   "source": [
    "from sklearn.datasets import load_iris\n",
    "from sklearn.preprocessing import MinMaxScaler\n",
    "from sklearn.cluster import KMeans\n",
    "\n",
    "iris = load_iris()\n",
    "iris_data = iris['data'] ##提取数据集中的特征\n",
    "iris_target = iris['target'] ## 提取数据集中的标签\n",
    "iris_names = iris['feature_names'] ### 提取特征名\n",
    "\n",
    "scale = MinMaxScaler().fit(iris_data)## 训练规则\n",
    "iris_dataScale = scale.transform(iris_data) ## 应用规则\n",
    "kmeans = KMeans(n_clusters = 3, random_state=123).fit(iris_dataScale) ##构建并训练模型\n",
    "print('构建的K-Means模型为：\\n',kmeans)\n",
    "result = kmeans.predict([[1.5,1.5,1.5,1.5]])\n",
    "print('花瓣花萼长度宽度全为1.5的鸢尾花预测类别为：', result[0])"
   ]
  },
  {
   "cell_type": "markdown",
   "metadata": {},
   "source": [
    "- 聚类完成后需要通过可视化的方式查看聚类效果\n",
    "    - 通过slearn的manifold模块中的TSNE函数可以实现多维数据的可视化展现。\n",
    "- 使用TSNE函数对结果做可视化"
   ]
  },
  {
   "cell_type": "code",
   "execution_count": 2,
   "metadata": {
    "collapsed": false
   },
   "outputs": [
    {
     "data": {
      "image/png": "[encoded data removed]",
      "text/plain": [
       "<matplotlib.figure.Figure at 0x7e46160>"
      ]
     },
     "metadata": {},
     "output_type": "display_data"
    }
   ],
   "source": [
    "import pandas as pd\n",
    "from sklearn.manifold import TSNE\n",
    "import matplotlib.pyplot as plt\n",
    "\n",
    "##使用TSNE进行数据降维,降成两维\n",
    "tsne = TSNE(n_components=2,init='random', random_state=177).fit(iris_data)\n",
    "df=pd.DataFrame(tsne.embedding_) ##将原始数据转换为DataFrame\n",
    "df['labels'] = kmeans.labels_ ##将聚类结果存储进df数据表\n",
    "##提取不同标签的数据\n",
    "df1 = df[df['labels']==0]\n",
    "df2 = df[df['labels']==1] \n",
    "df3 = df[df['labels']==2] \n",
    "## 绘制图形\n",
    "fig = plt.figure(figsize=(9,6)) ##设定空白画布，并制定大小\n",
    "##用不同的颜色表示不同数据\n",
    "plt.plot(df1[0],df1[1],'bo',df2[0],df2[1],'r*', df3[0],df3[1],'gD')\n",
    "plt.savefig('./scikit_learn/tmp/聚类结果.png') \n",
    "plt.show() ##显示图片"
   ]
  },
  {
   "cell_type": "markdown",
   "metadata": {
    "collapsed": true
   },
   "source": [
    "## 聚类模型的评价"
   ]
  },
  {
   "cell_type": "markdown",
   "metadata": {},
   "source": [
    "- metrics模块提供的聚类模型评价指标\n",
    "\n",
    "|方法名称|真实值|最佳值|sklearn函数|\n",
    "|-|-|-|-|\n",
    "|ARI评价法（兰德系数）|需要 |1.0|adjusted_rand_score|\n",
    "|AMI评价法（互信息）|需要 |1.0|adjusted_mutual_info_score|\n",
    "|V-measurce评分|需要| 1.0|completeness_score|\n",
    "|FMI评价法|需要| 1.0|fowlkes_mallows_score|\n",
    "|轮廓系数评价法|不需要|畸变程度最大|silhouette_score|\n",
    "|Calinski-Harabasz指数评价法|不需要|相较最大|calinski_harabaz_score|\n",
    "\n",
    "- 前4种方法均需要真实值的配合才能够评价聚类算法的优劣，\n",
    "- 后两种则不需要真实值的配合。\n",
    "- 但是前4种方法评价的效果更具有说服力，并且在实际运行的过程中，在有真实值做参考的情况下，聚类方法的评价可以等同于分类算法的评价。\n",
    "- 除了轮廓系数评价法以外的评价方法，在不考虑业务场景的情况下都是得分越高，其效果越好，最高分值为1。\n",
    "- 而轮廓系数评价法则需要判断不同类别数目情况下的轮廓系数的走势，寻找最优的聚类数目。\n",
    "- 在需要真实值配合的聚类评价方法中选取FMI评价法判定建立的K-Means聚类模型，如"
   ]
  },
  {
   "cell_type": "code",
   "execution_count": 3,
   "metadata": {
    "collapsed": false
   },
   "outputs": [
    {
     "name": "stdout",
     "output_type": "stream",
     "text": [
      "iris数据聚2类FMI评价分值为：0.750473\n",
      "iris数据聚3类FMI评价分值为：0.820808\n",
      "iris数据聚4类FMI评价分值为：0.753970\n",
      "iris数据聚5类FMI评价分值为：0.725483\n",
      "iris数据聚6类FMI评价分值为：0.600691\n"
     ]
    }
   ],
   "source": [
    "from sklearn.metrics import fowlkes_mallows_score\n",
    "\n",
    "for i in range(2,7):\n",
    "    ##构建并训练模型\n",
    "    kmeans = KMeans(n_clusters = i,random_state=123).fit(iris_data)\n",
    "    score = fowlkes_mallows_score(iris_target,kmeans.labels_)\n",
    "    print('iris数据聚%d类FMI评价分值为：%f' %(i,score))"
   ]
  },
  {
   "cell_type": "markdown",
   "metadata": {},
   "source": [
    "- 结果显示，iris数据聚3类的时候FMI评价法分值最高，故聚类为3类的时候K-Means聚类模型最好。\n",
    "- 使用轮廓系数评价法评估K-Means模型，然后做出轮廓系数走势图，根据图形判断聚类效果\n"
   ]
  },
  {
   "cell_type": "code",
   "execution_count": 4,
   "metadata": {
    "collapsed": false
   },
   "outputs": [
    {
     "data": {
      "image/png": "[encoded data removed]",
      "text/plain": [
       "<matplotlib.figure.Figure at 0x8a443c8>"
      ]
     },
     "metadata": {},
     "output_type": "display_data"
    }
   ],
   "source": [
    "from sklearn.metrics import silhouette_score\n",
    "import matplotlib.pyplot as plt\n",
    "\n",
    "silhouettteScore = []\n",
    "for i in range(2,15):\n",
    "    ##构建并训练模型\n",
    "    kmeans = KMeans(n_clusters = i,random_state=123).fit(iris_data)\n",
    "    score = silhouette_score(iris_data,kmeans.labels_)\n",
    "    silhouettteScore.append(score)\n",
    "plt.figure(figsize=(10,6))\n",
    "plt.plot(range(2,15),silhouettteScore,linewidth=1.5, linestyle=\"-\")\n",
    "plt.show()"
   ]
  },
  {
   "cell_type": "markdown",
   "metadata": {},
   "source": [
    "- 从图形结果可以看出，聚类数目为2、3和5、6时平均畸变程度最大。\n",
    "- 由于iris数据本身就是3种鸢尾花的花瓣、花萼长度和宽度的数据，侧面说明了聚类数目为3的效果最佳"
   ]
  },
  {
   "cell_type": "markdown",
   "metadata": {},
   "source": [
    "- 使用Calinski-Harabasz指数评价K-Means聚类模型，基本判定方法和前4种需要真值作为依据的方法相同，分值越高，效果越好"
   ]
  },
  {
   "cell_type": "code",
   "execution_count": 5,
   "metadata": {
    "collapsed": false
   },
   "outputs": [
    {
     "name": "stdout",
     "output_type": "stream",
     "text": [
      "iris数据聚2类calinski_harabaz指数为：513.303843\n",
      "iris数据聚3类calinski_harabaz指数为：560.399924\n",
      "iris数据聚4类calinski_harabaz指数为：529.120719\n",
      "iris数据聚5类calinski_harabaz指数为：494.094382\n",
      "iris数据聚6类calinski_harabaz指数为：474.753604\n"
     ]
    }
   ],
   "source": [
    "from sklearn.metrics import calinski_harabaz_score\n",
    "\n",
    "for i in range(2,7):\n",
    "    ##构建并训练模型\n",
    "    kmeans = KMeans(n_clusters = i,random_state=123).fit(iris_data)\n",
    "    score = calinski_harabaz_score(iris_data,kmeans.labels_)\n",
    "    print('iris数据聚%d类calinski_harabaz指数为：%f'%(i,score))"
   ]
  },
  {
   "cell_type": "markdown",
   "metadata": {},
   "source": [
    "- 综上\n",
    "    - 在真值作为参考下，几种方法均可以很好评估聚类模型\n",
    "    - 没有真值参考，轮廓系数评价法和Calinski-Harabasz指数评价可以结合使用"
   ]
  },
  {
   "cell_type": "markdown",
   "metadata": {},
   "source": [
    "## 任务"
   ]
  },
  {
   "cell_type": "markdown",
   "metadata": {},
   "source": [
    "- Seeds数据集存放了不同品种小麦种子的区域、周长、压实度、籽粒长度、籽粒宽度、不对称系数、籽粒腹沟长度以及类别数据，共210条记录，7个特征，一个标签，标签分为3类\n",
    "1. 构建K-Means模型\n",
    "2. 评价构建的模型"
   ]
  },
  {
   "cell_type": "code",
   "execution_count": 6,
   "metadata": {
    "collapsed": false
   },
   "outputs": [
    {
     "name": "stdout",
     "output_type": "stream",
     "text": [
      "数据集形状为： (210, 8)\n",
      "构建的KM-eans模型为：\n",
      " KMeans(algorithm='auto', copy_x=True, init='k-means++', max_iter=300,\n",
      "    n_clusters=3, n_init=10, n_jobs=1, precompute_distances='auto',\n",
      "    random_state=42, tol=0.0001, verbose=0)\n"
     ]
    }
   ],
   "source": [
    "import pandas as pd\n",
    "from sklearn.preprocessing import StandardScaler\n",
    "from sklearn.cluster import KMeans\n",
    "\n",
    "seeds = pd.read_csv('./scikit_learn/data/seeds_dataset.txt',sep = '\\t')\n",
    "print('数据集形状为：', seeds.shape)\n",
    "## 处理数据\n",
    "seeds_data = seeds.iloc[:,:7].values\n",
    "seeds_target = seeds.iloc[:,7].values\n",
    "sees_names = seeds.columns[:7]\n",
    "stdScale = StandardScaler().fit(seeds_data)\n",
    "seeds_dataScale = stdScale.transform(seeds_data)\n",
    "##构建并训练模型\n",
    "kmeans = KMeans(n_clusters = 3,random_state=42).fit(seeds_data)\n",
    "print('构建的KM-eans模型为：\\n',kmeans)"
   ]
  },
  {
   "cell_type": "code",
   "execution_count": 7,
   "metadata": {
    "collapsed": false
   },
   "outputs": [
    {
     "name": "stdout",
     "output_type": "stream",
     "text": [
      "seeds数据聚2类calinski_harabaz指数为：351.179992\n",
      "seeds数据聚3类calinski_harabaz指数为：375.804961\n",
      "seeds数据聚4类calinski_harabaz指数为：327.835320\n",
      "seeds数据聚5类calinski_harabaz指数为：310.331840\n",
      "seeds数据聚6类calinski_harabaz指数为：302.473069\n"
     ]
    }
   ],
   "source": [
    "from sklearn.metrics import calinski_harabaz_score\n",
    "for i in range(2,7):\n",
    "    ##构建并训练模型\n",
    "    kmeans = KMeans(n_clusters = i,random_state=12).fit(seeds_data)\n",
    "    score = calinski_harabaz_score(seeds_data,kmeans.labels_)\n",
    "    print('seeds数据聚%d类calinski_harabaz指数为：%f'%(i,score))\n"
   ]
  },
  {
   "cell_type": "markdown",
   "metadata": {},
   "source": [
    "- 在聚类数目为3的时候，Calinski-Harabasz指数系数最大，表明时聚类模型效果最好，故Seeds数据集最优聚类数目为3类。结合原数据中的target，类别数目恰好为3类。"
   ]
  },
  {
   "cell_type": "markdown",
   "metadata": {},
   "source": [
    "# 构建并评价分类模型"
   ]
  },
  {
   "cell_type": "markdown",
   "metadata": {},
   "source": [
    "- 任务描述\n",
    "    - 分类是指构造一个分类模型，输入样本的特征值，输出对应的类别，将每个样本映射到预先定义好的类别。分类模型建立在已有类标记的数据集上，属于有监督学习。在实际应用场景中，分类算法被用于行为分析、物品识别、图像检测等。\n",
    "- 任务分析\n",
    "    - 1）使用skiearn估计器构建支持向量机（SVM）模型。\n",
    "    - 2）根据分类模型的评价指标评价支持向量机模型。\n"
   ]
  },
  {
   "cell_type": "markdown",
   "metadata": {},
   "source": [
    "## 使用sklearn估计器构建分类模型\n"
   ]
  },
  {
   "cell_type": "markdown",
   "metadata": {},
   "source": [
    "- 在数据分析领域，分类算法很多，其原理千差万别，有基于样本距离的最近邻算法，有基于特征信息熵的决策树，有基于bagging的随机森林，有基于boosting的梯度提升分类树，但其实现的过程相差不大，\n",
    "![](https://i.loli.net/2018/08/09/5b6c4fc9897a5.jpg)\n",
    "- sklearn中提供的分类算法非常多，分别存在于不同的模块中。\n",
    "\n",
    "|模块名称|函数名称|算法名称|\n",
    "|-|-|-|\n",
    "|linear_model|LogisticRegression|逻辑斯蒂回归|\n",
    "|svm|SVC|支持向量机|\n",
    "|neighbors|KNeighborsClassifier|K最近邻分类|\n",
    "|naive_bayes|GaussianNB|高斯朴素贝叶斯|\n",
    "|tree|DecisionTreeCIassifier|分类决策树|\n",
    "|ensemble|RandomForestClassifier|随机森林分类|\n",
    "|ensemble|GradientBoostingClassifier|梯度提升分类树|\n",
    "\n",
    "- 以breast_cancer数据为例，使用sklearn估计器构建支持向量机（SVM）模型，如"
   ]
  },
  {
   "cell_type": "code",
   "execution_count": 8,
   "metadata": {
    "collapsed": false
   },
   "outputs": [
    {
     "name": "stdout",
     "output_type": "stream",
     "text": [
      "建立的SVM模型为：\n",
      " SVC(C=1.0, cache_size=200, class_weight=None, coef0=0.0,\n",
      "  decision_function_shape='ovr', degree=3, gamma='auto', kernel='rbf',\n",
      "  max_iter=-1, probability=False, random_state=None, shrinking=True,\n",
      "  tol=0.001, verbose=False)\n"
     ]
    }
   ],
   "source": [
    "## 加载所需的函数,\n",
    "import numpy as np\n",
    "from sklearn.datasets import load_breast_cancer\n",
    "from sklearn.svm import SVC\n",
    "from sklearn.model_selection import train_test_split\n",
    "from sklearn.preprocessing import StandardScaler\n",
    "cancer = load_breast_cancer()\n",
    "cancer_data = cancer['data']\n",
    "cancer_target = cancer['target']\n",
    "cancer_names = cancer['feature_names']\n",
    "## 将数据划分为训练集测试集\n",
    "cancer_data_train,cancer_data_test, \\\n",
    "cancer_target_train,cancer_target_test = \\\n",
    "train_test_split(cancer_data,cancer_target,\n",
    "      test_size = 0.2,random_state = 22)\n",
    "## 数据标准化\n",
    "stdScaler = StandardScaler().fit(cancer_data_train)\n",
    "cancer_trainStd = stdScaler.transform(cancer_data_train)\n",
    "cancer_testStd = stdScaler.transform(cancer_data_test)\n",
    "## 建立SVM模型\n",
    "svm = SVC().fit(cancer_trainStd,cancer_target_train)\n",
    "print('建立的SVM模型为：\\n',svm)\n"
   ]
  },
  {
   "cell_type": "code",
   "execution_count": 9,
   "metadata": {
    "collapsed": false
   },
   "outputs": [
    {
     "name": "stdout",
     "output_type": "stream",
     "text": [
      "预测前20个结果为：\n",
      " [1 0 0 0 1 1 1 1 1 1 1 1 0 1 1 1 0 0 1 1]\n"
     ]
    }
   ],
   "source": [
    "## 预测训练集结果\n",
    "cancer_target_pred = svm.predict(cancer_testStd)\n",
    "print('预测前20个结果为：\\n',cancer_target_pred[:20])"
   ]
  },
  {
   "cell_type": "markdown",
   "metadata": {},
   "source": [
    "- 分类结果的混淆矩阵与准确率"
   ]
  },
  {
   "cell_type": "code",
   "execution_count": 10,
   "metadata": {
    "collapsed": false
   },
   "outputs": [
    {
     "name": "stdout",
     "output_type": "stream",
     "text": [
      "预测对的结果数目为： 111\n",
      "预测错的的结果数目为： 3\n",
      "预测结果准确率为： 0.973684210526\n"
     ]
    }
   ],
   "source": [
    "## 求出预测和真实一样的数目\n",
    "true = np.sum(cancer_target_pred == cancer_target_test )\n",
    "print('预测对的结果数目为：', true)\n",
    "print('预测错的的结果数目为：', cancer_target_test.shape[0]-true)\n",
    "print('预测结果准确率为：', true/cancer_target_test.shape[0])"
   ]
  },
  {
   "cell_type": "markdown",
   "metadata": {},
   "source": [
    "## 评价分类模型"
   ]
  },
  {
   "cell_type": "markdown",
   "metadata": {},
   "source": [
    "- 分类模型对测试集进行预测而得出的确率并不能很好地反映模型的性能，\n",
    "- 为了有效判断一个预测模型的性能表现，要结合真实值计算出准确率、召回率、F1值和Cohen's Kappa系数等指标衡量\n",
    "\n",
    "|方法名称|最佳值|sklearn函数|\n",
    "|-|-|-|\n",
    "|Precision（精确率）|1.0|metrics.precision_score|\n",
    "|Recall（召回率）|1.0|metrics.recallsc_ore|\n",
    "|Fl值|1.0|metrics.fl_score|\n",
    "|Cohen、Kappa系数|1.0|metrics.cohen_kappa_score|\n",
    "|ROC曲线|最靠近y轴|metrics.roc_curve|\n",
    "\n",
    "- 前4种都是分值越高越好，其使用方法基本相同。\n",
    "\n",
    "建立的支持向量机模型的Precision、Recall、Fl值和Cohen's Kappa系数评价指标"
   ]
  },
  {
   "cell_type": "code",
   "execution_count": 11,
   "metadata": {
    "collapsed": false,
    "scrolled": true
   },
   "outputs": [
    {
     "name": "stdout",
     "output_type": "stream",
     "text": [
      "使用SVM预测breast_cancer数据的准确率为： 0.973684210526\n",
      "使用SVM预测breast_cancer数据的精确率为： 0.959459459459\n",
      "使用SVM预测breast_cancer数据的召回率为： 1.0\n",
      "使用SVM预测breast_cancer数据的F1值为： 0.979310344828\n",
      "使用SVM预测breast_cancer数据的Cohen’s Kappa系数为： 0.943208236466\n"
     ]
    }
   ],
   "source": [
    "from sklearn.metrics import accuracy_score,precision_score, recall_score, f1_score,cohen_kappa_score\n",
    "\n",
    "print('使用SVM预测breast_cancer数据的准确率为：', accuracy_score(cancer_target_test,cancer_target_pred))\n",
    "print('使用SVM预测breast_cancer数据的精确率为：', precision_score(cancer_target_test,cancer_target_pred))\n",
    "print('使用SVM预测breast_cancer数据的召回率为：', recall_score(cancer_target_test,cancer_target_pred))\n",
    "print('使用SVM预测breast_cancer数据的F1值为：', f1_score(cancer_target_test,cancer_target_pred))\n",
    "print('使用SVM预测breast_cancer数据的Cohen’s Kappa系数为：', cohen_kappa_score(cancer_target_test,cancer_target_pred))"
   ]
  },
  {
   "cell_type": "code",
   "execution_count": 12,
   "metadata": {
    "collapsed": false
   },
   "outputs": [
    {
     "name": "stdout",
     "output_type": "stream",
     "text": [
      "使用SVM预测iris数据的分类报告为： \n",
      "              precision    recall  f1-score   support\n",
      "\n",
      "          0       1.00      0.93      0.96        43\n",
      "          1       0.96      1.00      0.98        71\n",
      "\n",
      "avg / total       0.97      0.97      0.97       114\n",
      "\n"
     ]
    }
   ],
   "source": [
    "from sklearn.metrics import classification_report\n",
    "\n",
    "print('使用SVM预测iris数据的分类报告为：','\\n', classification_report(cancer_target_test, cancer_target_pred))"
   ]
  },
  {
   "cell_type": "markdown",
   "metadata": {},
   "source": [
    "- 绘制ROC曲线"
   ]
  },
  {
   "cell_type": "code",
   "execution_count": 13,
   "metadata": {
    "collapsed": false,
    "scrolled": true
   },
   "outputs": [
    {
     "data": {
      "image/png": "[encoded data removed]",
      "text/plain": [
       "<matplotlib.figure.Figure at 0x88b2f60>"
      ]
     },
     "metadata": {},
     "output_type": "display_data"
    }
   ],
   "source": [
    "from sklearn.metrics import roc_curve\n",
    "import matplotlib.pyplot as plt\n",
    "\n",
    "## 求出ROC曲线的x轴和y轴\n",
    "fpr, tpr, thresholds = roc_curve(cancer_target_test,cancer_target_pred)\n",
    "\n",
    "plt.figure(figsize=(10,6))\n",
    "plt.xlim(0,1) ##设定x轴的范围\n",
    "plt.ylim(0.0,1.1) ## 设定y轴的范围\n",
    "plt.xlabel('False Postive Rate')\n",
    "plt.ylabel('True Postive Rate')\n",
    "plt.plot(fpr,tpr,linewidth=2, linestyle=\"-\",color='red')\n",
    "plt.show()"
   ]
  },
  {
   "cell_type": "markdown",
   "metadata": {},
   "source": [
    "- ROC曲线横纵坐标范围为[0,1]，通常情况下，ROC曲线与轴形成的面积越大，表示模型性能越好。\n",
    "- 当ROC曲线为从（0,0）到（1,1）的直线时，表明了模型的计算结果基本都是随机得来的，在此情况卜，模型起到的作用几乎为零。\n",
    "- 故在实际中，ROC曲线离（0,0）到（1,1）的直线越远，表示模型效果越好。\n",
    "## 任务实现\n",
    "- 常规的鲍鱼的年龄是通过显微镜查看切削、染色后的外壳上环的数量得到的，十分耗时\n",
    "- 一些常规的物理量（如性别、长度、高度、壳体重量等）的测量十分容易获得，若能够使用这些物理量预测年龄，将节省大量时间。\n",
    "- 使用sklearn构建鲍鱼年龄预测的步骤如下。\n",
    "1. 构建SVM分类模型\n",
    "2. 评价SVM分类模型"
   ]
  },
  {
   "cell_type": "code",
   "execution_count": 14,
   "metadata": {
    "collapsed": false
   },
   "outputs": [
    {
     "name": "stderr",
     "output_type": "stream",
     "text": [
      "D:\\Program Files\\Anaconda3\\envs\\Python_36\\lib\\site-packages\\sklearn\\model_selection\\_split.py:2010: FutureWarning: From version 0.21, test_size will always complement train_size unless both are specified.\n",
      "  FutureWarning)\n"
     ]
    },
    {
     "name": "stdout",
     "output_type": "stream",
     "text": [
      "建立的SVM模型为： \n",
      " SVC(C=1.0, cache_size=200, class_weight=None, coef0=0.0,\n",
      "  decision_function_shape='ovr', degree=3, gamma='auto', kernel='rbf',\n",
      "  max_iter=-1, probability=False, random_state=None, shrinking=True,\n",
      "  tol=0.001, verbose=False)\n"
     ]
    }
   ],
   "source": [
    "import pandas as pd\n",
    "from sklearn.svm import SVC\n",
    "from sklearn.metrics import classification_report\n",
    "from sklearn.model_selection import train_test_split\n",
    "from sklearn.preprocessing import StandardScaler\n",
    "\n",
    "abalone = pd.read_csv('./scikit_learn/data/abalone.data',sep=',')\n",
    "## 将数据和标签拆开\n",
    "abalone_data = abalone.iloc[:,:8]\n",
    "abalone_target = abalone.iloc[:,8]\n",
    "## 连续型特征离散化\n",
    "sex = pd.get_dummies(abalone_data['sex'])\n",
    "abalone_data = pd.concat([abalone_data,sex],axis = 1 )\n",
    "abalone_data.drop('sex',axis = 1,inplace = True)\n",
    "## 划分训练集，测试集\n",
    "abalone_train,abalone_test, abalone_target_train,abalone_target_test = train_test_split(abalone_data,abalone_target,\n",
    "                                                                                        train_size = 0.8,random_state = 42) \n",
    "## 标准化\n",
    "stdScaler = StandardScaler().fit(abalone_train)\n",
    "abalone_std_train = stdScaler.transform(abalone_train)\n",
    "abalone_std_test = stdScaler.transform(abalone_test)\n",
    "## 建模\n",
    "svm_abalone = SVC().fit(abalone_std_train,abalone_target_train)\n",
    "print('建立的SVM模型为：','\\n',svm_abalone)"
   ]
  },
  {
   "cell_type": "code",
   "execution_count": 15,
   "metadata": {
    "collapsed": false
   },
   "outputs": [
    {
     "name": "stdout",
     "output_type": "stream",
     "text": [
      "abalone数据集的SVM分类报告为：\n",
      "              precision    recall  f1-score   support\n",
      "\n",
      "          3       0.00      0.00      0.00         3\n",
      "          4       0.45      0.69      0.55        13\n",
      "          5       0.54      0.22      0.31        32\n",
      "          6       0.40      0.33      0.36        48\n",
      "          7       0.41      0.44      0.42        84\n",
      "          8       0.37      0.36      0.37        99\n",
      "          9       0.28      0.57      0.38       142\n",
      "         10       0.24      0.33      0.28       139\n",
      "         11       0.25      0.25      0.25        93\n",
      "         12       0.00      0.00      0.00        51\n",
      "         13       0.00      0.00      0.00        31\n",
      "         14       0.00      0.00      0.00        26\n",
      "         15       0.00      0.00      0.00        21\n",
      "         16       0.00      0.00      0.00        13\n",
      "         17       0.00      0.00      0.00         8\n",
      "         18       0.00      0.00      0.00        12\n",
      "         19       0.00      0.00      0.00         7\n",
      "         20       0.00      0.00      0.00         4\n",
      "         21       0.00      0.00      0.00         3\n",
      "         22       0.00      0.00      0.00         3\n",
      "         23       0.00      0.00      0.00         4\n",
      "\n",
      "avg / total       0.25      0.31      0.26       836\n",
      "\n"
     ]
    },
    {
     "name": "stderr",
     "output_type": "stream",
     "text": [
      "D:\\Program Files\\Anaconda3\\envs\\Python_36\\lib\\site-packages\\sklearn\\metrics\\classification.py:1135: UndefinedMetricWarning: Precision and F-score are ill-defined and being set to 0.0 in labels with no predicted samples.\n",
      "  'precision', 'predicted', average, warn_for)\n"
     ]
    }
   ],
   "source": [
    "abalone_target_pred = svm_abalone.predict(abalone_std_test)\n",
    "print('abalone数据集的SVM分类报告为：\\n', classification_report(abalone_target_test,abalone_target_pred))\n"
   ]
  },
  {
   "cell_type": "markdown",
   "metadata": {},
   "source": [
    "# 构建并评价回归模型"
   ]
  },
  {
   "cell_type": "markdown",
   "metadata": {},
   "source": [
    "- 任务描述\n",
    "    - 回归算法的实现过程与分类算法类似，原理相差不大。分类和回归的主要区别在于，\n",
    "    - 分类算法的标签是离散的，但是回归算法的标签是连续的。\n",
    "    - 回归算法在交通、物流、社交网络和金融领域都能发挥巨大作用。\n",
    "- 任务分析\n",
    "    - （1）使用估计器构建线性回归（Linear Regression）模型。\n",
    "    - （2）根据回归模型评价指标评价线性回归模型。\n"
   ]
  },
  {
   "cell_type": "markdown",
   "metadata": {},
   "source": [
    "## 使用sklearn估计器构建线性回归模型"
   ]
  },
  {
   "cell_type": "markdown",
   "metadata": {},
   "source": [
    "![](https://i.loli.net/2018/08/09/5b6c57c56f04a.jpg)"
   ]
  },
  {
   "cell_type": "markdown",
   "metadata": {},
   "source": [
    "- 在回归模型中，自变量与因变量具有相关关系，自变量的值是已知的，因变量是要预测的。\n",
    "- 回归算法的实现步骤和分类算法基本相同，分为学习和预测两个步骤。\n",
    "- 学习是通过训练样本数据来拟合回归方程的；\n",
    "- 预测则是利用学习过程中拟合出的回归方程，将测试数据放入方程中求出预测值。\n",
    "- 常用的回归模型\n",
    "\n",
    "<table>\n",
    "\t<tr>\n",
    "\t\t<td>回归模型名称</td>\n",
    "\t\t<td>适用条件</td>\n",
    "\t\t<td>算法描述</td>\n",
    "\t</tr>\n",
    "\t\t<tr>\n",
    "\t\t<td>线性回归</td>\n",
    "\t\t<td>因变量与自变量是线性</td>\n",
    "\t\t<td>对一个或多个自变量和因变量之间的线性关系进行建模，可用最小二乘估计法求解模型系数</td>\n",
    "\t</tr>\n",
    "\t\t<tr>\n",
    "\t\t<td>非线性回归</td>\n",
    "\t\t<td>因变量与自变量之间不都是线性关系</td>\n",
    "\t\t<td>对一个或多个自变量和因变量之间的非线性关系进行建模。  \n",
    "如果非线性关系可以通过简单的函数变换转化成线性关系，  \n",
    "则可用线性回归的思想求解；如果不能转化，可用非线性最小二乘估计法求解</td>\n",
    "\t</tr>\n",
    "\t\t<tr>\n",
    "\t\t<td>Locistic回归</td>\n",
    "\t\t<td>因变量一般有1和0（是与否）两种取值</td>\n",
    "\t\t<td>是广义线性回归模型的特例，利用Logistic函数将因变量的取值范围控制在0、1,  \n",
    "表示取值为1的概率</td>\n",
    "\t</tr>\n",
    "\t\t<tr>\n",
    "\t\t<td>岭回归</td>\n",
    "\t\t<td>参与建模的自变量之间具有多重共线性</td>\n",
    "\t\t<td>是一种改进最小二乘估计法的方法</td>\n",
    "\t</tr>\n",
    "\t\t<tr>\n",
    "\t\t<td>主成分回归</td>\n",
    "\t\t<td>参与建模的自变量之间具有多重共线性</td>\n",
    "\t\t<td>主成分回归是根据主成分分析的思想提出来的，是对最小二乘估计法的一种改进，  \n",
    "它是参数估计的一种有偏估计。可以消除自变量之间的多重共线性</td>\n",
    "\t</tr>\n",
    "</table>\n",
    "\n",
    "- sklearn库内部的常用回归算法\n",
    "\n",
    "|模块|函数名称|算法名称|\n",
    "|-|-|-|\n",
    "|linear_model|LinearRegression|线性回归|\n",
    "|svm|SVR|支持向量回归|\n",
    "|neighbors|KNeighborsRegressor|最近邻回归|\n",
    "|tree|DecisionTreeRegressor|回归决策树|\n",
    "|ensemble|RandomForestRegressor|随机森林回归|\n",
    "|ensemble|GradientBoostingRegressor|梯度提升回归树|\n"
   ]
  },
  {
   "cell_type": "markdown",
   "metadata": {},
   "source": [
    "- 以boston数据集为例，使用sklearn估计器构建线性回归模型"
   ]
  },
  {
   "cell_type": "code",
   "execution_count": 1,
   "metadata": {
    "collapsed": false
   },
   "outputs": [
    {
     "name": "stdout",
     "output_type": "stream",
     "text": [
      "建立的LinearRegression模型为： \n",
      " LinearRegression(copy_X=True, fit_intercept=True, n_jobs=1, normalize=False)\n"
     ]
    }
   ],
   "source": [
    "##加载所需函数\n",
    "from sklearn.linear_model import LinearRegression\n",
    "from sklearn.datasets import load_boston\n",
    "from sklearn.model_selection import train_test_split\n",
    "\n",
    "## 加载boston数据\n",
    "boston = load_boston()\n",
    "X = boston['data']\n",
    "y = boston['target']\n",
    "names = boston['feature_names']\n",
    "\n",
    "## 将数据划分为训练集测试集\n",
    "X_train,X_test,y_train,y_test = train_test_split(X,y,test_size = 0.2,random_state=125)\n",
    "\n",
    "## 建立线性回归模型\n",
    "clf = LinearRegression().fit(X_train,y_train)\n",
    "print('建立的LinearRegression模型为：','\\n',clf)\n"
   ]
  },
  {
   "cell_type": "code",
   "execution_count": 2,
   "metadata": {
    "collapsed": false
   },
   "outputs": [
    {
     "name": "stdout",
     "output_type": "stream",
     "text": [
      "预测前20个结果为： \n",
      " [ 21.12953164  19.67578799  22.01735047  24.62046819  14.45164813\n",
      "  23.32325459  16.6468677   14.9175848   33.58466804  17.48328609\n",
      "  25.50385719  36.60215179  25.95309333  28.48503161  19.34928078\n",
      "  20.16966217  25.9788081   18.25959831  16.52754056  17.08448854]\n"
     ]
    }
   ],
   "source": [
    "## 预测训练集结果\n",
    "y_pred = clf.predict(X_test)\n",
    "print('预测前20个结果为：','\\n',y_pred[:20])"
   ]
  },
  {
   "cell_type": "markdown",
   "metadata": {},
   "source": [
    "- 利用预测结果和真实结果画出折线图，能较为直观地看出线性回归模型效果.\n",
    "- 折线图说明了除了部分预测值和原值相差较大外，绝大多数拟合效果良好，与实际偏差不大。"
   ]
  },
  {
   "cell_type": "code",
   "execution_count": 3,
   "metadata": {
    "collapsed": false
   },
   "outputs": [
    {
     "data": {
      "image/png": "[encoded data removed]",
      "text/plain": [
       "<matplotlib.figure.Figure at 0x8c582e8>"
      ]
     },
     "metadata": {},
     "output_type": "display_data"
    }
   ],
   "source": [
    "import matplotlib.pyplot as plt\n",
    "from matplotlib import rcParams\n",
    "rcParams['font.sans-serif'] = 'SimHei'\n",
    "fig = plt.figure(figsize=(10,6)) ##设定空白画布，并制定大小\n",
    "##用不同的颜色表示不同数据\n",
    "plt.plot(range(y_test.shape[0]),y_test,color=\"blue\", linewidth=1.5, linestyle=\"-\")\n",
    "plt.plot(range(y_test.shape[0]),y_pred,color=\"red\", linewidth=1.5, linestyle=\"-.\")\n",
    "plt.legend(['真实值','预测值'])\n",
    "plt.savefig('./scikit_learn/tmp/聚类结果.png') \n",
    "plt.show() ##显示图片"
   ]
  },
  {
   "cell_type": "markdown",
   "metadata": {
    "collapsed": true
   },
   "source": [
    "## 评价回归模型"
   ]
  },
  {
   "cell_type": "markdown",
   "metadata": {},
   "source": [
    "- 回归模型的性能评价不同于分类模型，虽然都是对照真实值进行评价，\n",
    "- 但由于回归模型的预测结果和真实值都是连续的，所以不能够求取Precision、Recall和Fl值等评价指标。\n",
    "- 回归模型拥有一套独立的评价指标。\n",
    "- 常用的回归模型评价指标\n",
    "\n",
    "|方法|最优值|sklearn函数|\n",
    "|-|-|-|\n",
    "|平均绝对误差|0·0|metrics.meana_absolute_error|\n",
    "|均方误差|0·0|metrics·mean_squared_error|\n",
    "|中值绝对误差|0·0|metrics.median_absolute_error|\n",
    "|可解释方差值|1·0|metrics.explained_variance_score|\n",
    "|$R^2$值|1·0|metrics·r2_score|"
   ]
  },
  {
   "cell_type": "markdown",
   "metadata": {},
   "source": [
    "- 平均绝对误差、均方误差 和 中值绝对误差的值 越靠近 0，模型性能越好。\n",
    "- 可解释方差值 和 $R^2$值 越靠近 1，模型性能越好。"
   ]
  },
  {
   "cell_type": "code",
   "execution_count": 4,
   "metadata": {
    "collapsed": false
   },
   "outputs": [
    {
     "name": "stdout",
     "output_type": "stream",
     "text": [
      "Boston数据线性回归模型的平均绝对误差为： 3.37764269736\n",
      "Boston数据线性回归模型的均方误差为： 31.1505966769\n",
      "Boston数据线性回归模型的中值绝对误差为： 1.77742131574\n",
      "Boston数据线性回归模型的可解释方差值为： 0.710594962628\n",
      "Boston数据线性回归模型的R方值为： 0.706895422578\n"
     ]
    }
   ],
   "source": [
    "from sklearn.metrics import explained_variance_score,\\\n",
    "mean_absolute_error,\\\n",
    "mean_squared_error,\\\n",
    "median_absolute_error,r2_score\n",
    "\n",
    "print('Boston数据线性回归模型的平均绝对误差为：', mean_absolute_error(y_test,y_pred))\n",
    "print('Boston数据线性回归模型的均方误差为：', mean_squared_error(y_test,y_pred))\n",
    "print('Boston数据线性回归模型的中值绝对误差为：', median_absolute_error(y_test,y_pred))\n",
    "print('Boston数据线性回归模型的可解释方差值为：', explained_variance_score(y_test,y_pred))\n",
    "print('Boston数据线性回归模型的R方值为：', r2_score(y_test,y_pred))"
   ]
  },
  {
   "cell_type": "markdown",
   "metadata": {},
   "source": [
    "可以看出，建立的线性回归模型拟合效果一般，还有较大的改进余地。"
   ]
  },
  {
   "cell_type": "markdown",
   "metadata": {},
   "source": [
    "## 任务实现\n",
    "- 房子的估值是一件相对烦琐的事情，使用加利福尼亚住房数据集，可以通过房子的8个外在条件来评估房子的平均价值。\n",
    "- 使用skiearn估计器建立回归模型来评价房子的平均价值需要以下两步。\n",
    "    1. 构建线性回归模型\n",
    "    2. 评价构建的线性回归模型代码"
   ]
  },
  {
   "cell_type": "code",
   "execution_count": 5,
   "metadata": {
    "collapsed": false
   },
   "outputs": [
    {
     "name": "stdout",
     "output_type": "stream",
     "text": [
      "建立的梯度提升回归模型为： \n",
      " GradientBoostingRegressor(alpha=0.9, criterion='friedman_mse', init=None,\n",
      "             learning_rate=0.1, loss='ls', max_depth=3, max_features=None,\n",
      "             max_leaf_nodes=None, min_impurity_decrease=0.0,\n",
      "             min_impurity_split=None, min_samples_leaf=1,\n",
      "             min_samples_split=2, min_weight_fraction_leaf=0.0,\n",
      "             n_estimators=100, presort='auto', random_state=None,\n",
      "             subsample=1.0, verbose=0, warm_start=False)\n"
     ]
    }
   ],
   "source": [
    "import pandas as pd\n",
    "from sklearn.ensemble import GradientBoostingRegressor\n",
    "from sklearn.model_selection import train_test_split\n",
    "\n",
    "house = pd.read_csv('./scikit_learn/data/cal_housing.data',sep=',')\n",
    "house_data = house.iloc[:,:-1]\n",
    "house_target = house.iloc[:,-1]\n",
    "house_names = ['longitude','latitude',\n",
    "               'housingMedianAge', 'totalRooms',\n",
    "               'totalBedrooms','population', \n",
    "               'households', 'medianIncome']\n",
    "house_train,house_test,house_target_train,house_target_test = train_test_split(house_data,house_target,\n",
    "                                                                               test_size = 0.2, random_state = 42)\n",
    "GBR_house = GradientBoostingRegressor().fit(house_train,house_target_train)\n",
    "\n",
    "print('建立的梯度提升回归模型为：','\\n',GBR_house)"
   ]
  },
  {
   "cell_type": "code",
   "execution_count": 6,
   "metadata": {
    "collapsed": false
   },
   "outputs": [
    {
     "name": "stdout",
     "output_type": "stream",
     "text": [
      "california_housing数据梯度提升回归树模型的平均绝对误差为： 38057.4384557\n",
      "california_housing数据梯度提升回归树模型的均方误差为： 3103620040.46\n",
      "california_housing数据梯度提升回归树模型的中值绝对误差为： 26179.4784457\n",
      "california_housing数据梯度提升回归树模型的可解释方差值为： 0.761865224872\n",
      "california_housing数据梯度提升回归树模型的R方值为： 0.761817656838\n"
     ]
    }
   ],
   "source": [
    "house_target_pred = GBR_house.predict(house_test)\n",
    "\n",
    "from sklearn.metrics import explained_variance_score,\\\n",
    "mean_absolute_error,\\\n",
    "mean_squared_error,\\\n",
    "median_absolute_error,r2_score\n",
    "\n",
    "print('california_housing数据梯度提升回归树模型的平均绝对误差为：', mean_absolute_error(house_target_test,house_target_pred))\n",
    "print('california_housing数据梯度提升回归树模型的均方误差为：', mean_squared_error(house_target_test,house_target_pred))\n",
    "print('california_housing数据梯度提升回归树模型的中值绝对误差为：', median_absolute_error(house_target_test,house_target_pred))\n",
    "print('california_housing数据梯度提升回归树模型的可解释方差值为：', explained_variance_score(house_target_test,\n",
    "                                                                         house_target_pred))\n",
    "print('california_housing数据梯度提升回归树模型的R方值为：', r2_score(house_target_test,house_target_pred))\n"
   ]
  },
  {
   "cell_type": "markdown",
   "metadata": {},
   "source": [
    "- 本次构建的梯度提升回归树模型的平均绝对误差和均方误差相对合理，同时可解释方差值和$R^2$值较接近1，故本次构建的模型是一个较为有效的模型\n",
    "\n",
    "## 小结\n",
    "\n",
    "- 主要根据数据 分析应用分类，重点介绍了对应的数据分析建模方法及实现过程。\n",
    "- 归纳起来，数据分析技术的基本任务主要体现在聚类、分类和回归3类。\n",
    "- 同时，每一类又有对应的多种评估方法，能够评价所构建模型的性能优劣。\n",
    "- 通过学习，读者基本能够掌握常用的模型构建与评价方法。"
   ]
  },
  {
   "cell_type": "markdown",
   "metadata": {},
   "source": [
    "# 实训"
   ]
  },
  {
   "cell_type": "markdown",
   "metadata": {},
   "source": [
    "## 实训1 使用sklearn处理wine和wine_quality数据集"
   ]
  },
  {
   "cell_type": "markdown",
   "metadata": {},
   "source": [
    "1. 训练要点\n",
    "    - （1）掌握sklearn转换器的用法。\n",
    "    - （2）掌握训练集、测试集划分的方法。\n",
    "    - （3）掌握使用sklearn进行PCA降维的方法。\n",
    "2. 需求说明\n",
    "    - wine数据集和wine_quality数据集是两份和酒有关的数据集。\n",
    "    - wine数据集包含3种不同起源的葡萄酒的记录，共178条。\n",
    "         - 其中，每个特征对应葡萄酒的每种化学成分，\n",
    "         - 并且都属于连续型数据。\n",
    "    - 通过化学分析可以推断葡萄酒的起源。\n",
    "    - wine_quality数据集共有4898个观察值，\n",
    "        - 11个输入特征和一个标签。\n",
    "        - 其中，不同类的观察值数量不等，\n",
    "        - 所有特征为连续型数据。\n",
    "    - 通过酒的各类化学成分，预测该葡萄酒的评分。\n",
    "3. 实现思路及步骤\n",
    "    - （1）使用pandas库分别读取wine数据集和win-quality数据集。\n",
    "    - （2）将wine数据集和wine-quality数据集的数据和标签拆分开。\n",
    "    - （3丿将wine-quality数据集划分为训练集和测试集。\n",
    "    - （4）标准化wine数据集和wine-quality数据集。\n",
    "    - （5）对wine数据集和wine_quality数据集进行PCA降维。\n"
   ]
  },
  {
   "cell_type": "markdown",
   "metadata": {},
   "source": [
    "## 实训2 构建基于wine数据集的K-Means聚类模型"
   ]
  },
  {
   "cell_type": "markdown",
   "metadata": {},
   "source": [
    "1. 训练要点\n",
    "    - （1）了解sklearn估计器的用法。\n",
    "    - （2）掌握聚类模型的构建方法。\n",
    "    - （3）掌握聚类模型的评价方法。\n",
    "2. 需求说明\n",
    "    - wine数据集的葡萄酒总共分为3种，通过将wine数据集的数据进行聚类，聚集为3个簇，能够实现葡萄酒的类别划分。\n",
    "3. 实现思路及步骤\n",
    "    - （1）根据实训1的wine数据集处理的结果，构建聚类数目为3的K-Means模型\n",
    "    - （2）对比真实标签和聚类标签求取FMI\n",
    "    - （3）在聚类数目为2~10类时，确定最优聚类数目。\n",
    "    - （4）求取模型的轮廓系数，绘制轮廓系数折线图，确定最优聚类数目。\n",
    "    - （5）求取Calinski-Harabasz指数，确定最优聚类数目。    "
   ]
  },
  {
   "cell_type": "markdown",
   "metadata": {},
   "source": [
    "## 实训3 构建基于wine数据集的SVM分类模型"
   ]
  },
  {
   "cell_type": "markdown",
   "metadata": {},
   "source": [
    "1. 训练要点\n",
    "    - （1）掌握sklearn估计器的用法。\n",
    "    - （2）掌握分类模型的构建方法。\n",
    "    - （3）掌握分类模型的评价方法。\n",
    "2. 需求说明\n",
    "    - wine数据集中的葡萄酒类别为3种，将wine数据集划分为训练集和测试集，\n",
    "    - 使用训练集训练SVM分类模型，\n",
    "    - 并使用训练完成的模型预测测试集的葡萄酒类别归属。\n",
    "3. 实现思路及步骤\n",
    "    - （1）读取数集，区分标签和数据。\n",
    "    - （2）将wine数据集划分为训练集和测试集。\n",
    "    - （3）使用离差标准化方法标准化wine数据集。\n",
    "    - （4）构建svM模型，并预测测试集结果。\n",
    "    - （5）打印出分类报告，评价分类模型性能。"
   ]
  },
  {
   "cell_type": "markdown",
   "metadata": {},
   "source": [
    "## 实训4  构建基于wine_quality数据集的回归模型"
   ]
  },
  {
   "cell_type": "markdown",
   "metadata": {},
   "source": [
    "1. 训练要点\n",
    "    - （1)熟练sklearn估计器的用法。\n",
    "    - （2)掌握回归模型的构建方法。\n",
    "    - （3)掌握回归模型的评价方法。\n",
    "2. 需求说明\n",
    "    - wine_quality数据集的葡萄酒评分在0~10之间，构建线性回归模型与梯度提升回归模型，\n",
    "    - 训练wine_quality数据集的训练集数据，训练完成后预测测试集的葡萄酒评分。\n",
    "    - 结合真实评分，评价构建的两个回归模型的好坏。\n",
    "3. 实现思路及步骤\n",
    "    - （1) 根据wine_quality数据集处理的结果，构建线性回归模型。\n",
    "    - （2）根据wine_quality数据集处理的结果，构建梯度提升回归模型。\n",
    "    - （3）结合真实评分和预测评分，计算均方误差、中值绝对误差、可解释方差值。\n",
    "    - （4）根据得分，判定模型的性能优劣。"
   ]
  }
 ],
 "metadata": {
  "anaconda-cloud": {},
  "kernelspec": {
   "display_name": "Python [conda env:Python_36]",
   "language": "python",
   "name": "conda-env-Python_36-py"
  },
  "language_info": {
   "codemirror_mode": {
    "name": "ipython",
    "version": 3
   },
   "file_extension": ".py",
   "mimetype": "text/x-python",
   "name": "python",
   "nbconvert_exporter": "python",
   "pygments_lexer": "ipython3",
   "version": "3.6.2"
  },
  "toc": {
   "base_numbering": 1,
   "nav_menu": {},
   "number_sections": true,
   "sideBar": true,
   "skip_h1_title": false,
   "title_cell": "Table of Contents",
   "title_sidebar": "Contents",
   "toc_cell": false,
   "toc_position": {},
   "toc_section_display": true,
   "toc_window_display": false
  }
 },
 "nbformat": 4,
 "nbformat_minor": 1
}
